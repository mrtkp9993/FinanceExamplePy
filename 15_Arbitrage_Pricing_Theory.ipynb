{
 "cells": [
  {
   "cell_type": "code",
   "execution_count": 18,
   "id": "803c1357-aab2-4aee-b015-d14e8d774fb3",
   "metadata": {},
   "outputs": [],
   "source": [
    "import matplotlib.pyplot as plt\n",
    "import numpy as np\n",
    "import pandas as pd\n",
    "import yfinance as yf\n",
    "from statsmodels.regression.linear_model import OLS\n",
    "from statsmodels.tools.tools import add_constant"
   ]
  },
  {
   "cell_type": "code",
   "execution_count": 2,
   "id": "61c9f6cc-70ec-4419-be7c-64490408b43a",
   "metadata": {},
   "outputs": [],
   "source": [
    "stock = \"KOZAA.IS\"\n",
    "market = \"XU100.IS\"\n",
    "factors = [stock, market, \"^VIX\", \"TRY=X\", \"GC=F\"]"
   ]
  },
  {
   "cell_type": "code",
   "execution_count": 12,
   "id": "efb412e2-4b16-45ba-a71d-cd1c14887b2f",
   "metadata": {},
   "outputs": [
    {
     "name": "stdout",
     "output_type": "stream",
     "text": [
      "[*********************100%***********************]  5 of 5 completed\n"
     ]
    }
   ],
   "source": [
    "data = yf.download(tickers=factors, period=\"5y\")['Adj Close']\n",
    "\n",
    "data.clip(lower=0, inplace=True)\n",
    "#data.fillna(0, inplace=True)\n",
    "data.fillna(method=\"ffill\", inplace=True)\n",
    "data.dropna(inplace=True)\n",
    "\n",
    "rets = data.pct_change().dropna()"
   ]
  },
  {
   "cell_type": "code",
   "execution_count": 43,
   "id": "04148f2a-8ce1-47d4-ad7c-2885d0591dfd",
   "metadata": {},
   "outputs": [
    {
     "name": "stderr",
     "output_type": "stream",
     "text": [
      "C:\\Users\\murat\\AppData\\Roaming\\Python\\Python39\\site-packages\\statsmodels\\tsa\\tsatools.py:142: FutureWarning: In a future version of pandas all arguments of concat except for the argument 'objs' will be keyword-only\n",
      "  x = pd.concat(x[::order], 1)\n"
     ]
    },
    {
     "data": {
      "text/html": [
       "<table class=\"simpletable\">\n",
       "<caption>OLS Regression Results</caption>\n",
       "<tr>\n",
       "  <th>Dep. Variable:</th>        <td>KOZAA.IS</td>     <th>  R-squared:         </th> <td>   0.129</td>\n",
       "</tr>\n",
       "<tr>\n",
       "  <th>Model:</th>                   <td>OLS</td>       <th>  Adj. R-squared:    </th> <td>   0.115</td>\n",
       "</tr>\n",
       "<tr>\n",
       "  <th>Method:</th>             <td>Least Squares</td>  <th>  F-statistic:       </th> <td>   9.493</td>\n",
       "</tr>\n",
       "<tr>\n",
       "  <th>Date:</th>             <td>Mon, 06 Sep 2021</td> <th>  Prob (F-statistic):</th> <td>3.58e-07</td>\n",
       "</tr>\n",
       "<tr>\n",
       "  <th>Time:</th>                 <td>21:53:10</td>     <th>  Log-Likelihood:    </th> <td>  566.14</td>\n",
       "</tr>\n",
       "<tr>\n",
       "  <th>No. Observations:</th>      <td>   262</td>      <th>  AIC:               </th> <td>  -1122.</td>\n",
       "</tr>\n",
       "<tr>\n",
       "  <th>Df Residuals:</th>          <td>   257</td>      <th>  BIC:               </th> <td>  -1104.</td>\n",
       "</tr>\n",
       "<tr>\n",
       "  <th>Df Model:</th>              <td>     4</td>      <th>                     </th>     <td> </td>   \n",
       "</tr>\n",
       "<tr>\n",
       "  <th>Covariance Type:</th>      <td>nonrobust</td>    <th>                     </th>     <td> </td>   \n",
       "</tr>\n",
       "</table>\n",
       "<table class=\"simpletable\">\n",
       "<tr>\n",
       "      <td></td>        <th>coef</th>     <th>std err</th>      <th>t</th>      <th>P>|t|</th>  <th>[0.025</th>    <th>0.975]</th>  \n",
       "</tr>\n",
       "<tr>\n",
       "  <th>const</th>    <td>    0.0022</td> <td>    0.002</td> <td>    1.274</td> <td> 0.204</td> <td>   -0.001</td> <td>    0.006</td>\n",
       "</tr>\n",
       "<tr>\n",
       "  <th>GC=F</th>     <td>    0.5815</td> <td>    0.132</td> <td>    4.412</td> <td> 0.000</td> <td>    0.322</td> <td>    0.841</td>\n",
       "</tr>\n",
       "<tr>\n",
       "  <th>TRY=X</th>    <td>   -0.2261</td> <td>    0.220</td> <td>   -1.026</td> <td> 0.306</td> <td>   -0.660</td> <td>    0.208</td>\n",
       "</tr>\n",
       "<tr>\n",
       "  <th>XU100.IS</th> <td>    0.0490</td> <td>    0.028</td> <td>    1.775</td> <td> 0.077</td> <td>   -0.005</td> <td>    0.103</td>\n",
       "</tr>\n",
       "<tr>\n",
       "  <th>^VIX</th>     <td>   -0.0634</td> <td>    0.019</td> <td>   -3.405</td> <td> 0.001</td> <td>   -0.100</td> <td>   -0.027</td>\n",
       "</tr>\n",
       "</table>\n",
       "<table class=\"simpletable\">\n",
       "<tr>\n",
       "  <th>Omnibus:</th>       <td>29.891</td> <th>  Durbin-Watson:     </th> <td>   2.219</td>\n",
       "</tr>\n",
       "<tr>\n",
       "  <th>Prob(Omnibus):</th> <td> 0.000</td> <th>  Jarque-Bera (JB):  </th> <td>  66.184</td>\n",
       "</tr>\n",
       "<tr>\n",
       "  <th>Skew:</th>          <td> 0.558</td> <th>  Prob(JB):          </th> <td>4.25e-15</td>\n",
       "</tr>\n",
       "<tr>\n",
       "  <th>Kurtosis:</th>      <td> 5.195</td> <th>  Cond. No.          </th> <td>    127.</td>\n",
       "</tr>\n",
       "</table><br/><br/>Notes:<br/>[1] Standard Errors assume that the covariance matrix of the errors is correctly specified."
      ],
      "text/plain": [
       "<class 'statsmodels.iolib.summary.Summary'>\n",
       "\"\"\"\n",
       "                            OLS Regression Results                            \n",
       "==============================================================================\n",
       "Dep. Variable:               KOZAA.IS   R-squared:                       0.129\n",
       "Model:                            OLS   Adj. R-squared:                  0.115\n",
       "Method:                 Least Squares   F-statistic:                     9.493\n",
       "Date:                Mon, 06 Sep 2021   Prob (F-statistic):           3.58e-07\n",
       "Time:                        21:53:10   Log-Likelihood:                 566.14\n",
       "No. Observations:                 262   AIC:                            -1122.\n",
       "Df Residuals:                     257   BIC:                            -1104.\n",
       "Df Model:                           4                                         \n",
       "Covariance Type:            nonrobust                                         \n",
       "==============================================================================\n",
       "                 coef    std err          t      P>|t|      [0.025      0.975]\n",
       "------------------------------------------------------------------------------\n",
       "const          0.0022      0.002      1.274      0.204      -0.001       0.006\n",
       "GC=F           0.5815      0.132      4.412      0.000       0.322       0.841\n",
       "TRY=X         -0.2261      0.220     -1.026      0.306      -0.660       0.208\n",
       "XU100.IS       0.0490      0.028      1.775      0.077      -0.005       0.103\n",
       "^VIX          -0.0634      0.019     -3.405      0.001      -0.100      -0.027\n",
       "==============================================================================\n",
       "Omnibus:                       29.891   Durbin-Watson:                   2.219\n",
       "Prob(Omnibus):                  0.000   Jarque-Bera (JB):               66.184\n",
       "Skew:                           0.558   Prob(JB):                     4.25e-15\n",
       "Kurtosis:                       5.195   Cond. No.                         127.\n",
       "==============================================================================\n",
       "\n",
       "Notes:\n",
       "[1] Standard Errors assume that the covariance matrix of the errors is correctly specified.\n",
       "\"\"\""
      ]
     },
     "execution_count": 43,
     "metadata": {},
     "output_type": "execute_result"
    }
   ],
   "source": [
    "X = rets_[['GC=F', 'TRY=X', 'XU100.IS', '^VIX']]\n",
    "X = add_constant(X)\n",
    "y = rets_[stock]\n",
    "lm = OLS(y, X).fit()\n",
    "lm.summary()"
   ]
  }
 ],
 "metadata": {
  "kernelspec": {
   "display_name": "Python 3 (ipykernel)",
   "language": "python",
   "name": "python3"
  },
  "language_info": {
   "codemirror_mode": {
    "name": "ipython",
    "version": 3
   },
   "file_extension": ".py",
   "mimetype": "text/x-python",
   "name": "python",
   "nbconvert_exporter": "python",
   "pygments_lexer": "ipython3",
   "version": "3.9.6"
  }
 },
 "nbformat": 4,
 "nbformat_minor": 5
}
