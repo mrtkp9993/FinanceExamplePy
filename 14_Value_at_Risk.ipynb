{
 "cells": [
  {
   "cell_type": "code",
   "execution_count": 100,
   "id": "7ddf853b-edf6-4db4-8e72-abbf1657cccd",
   "metadata": {},
   "outputs": [],
   "source": [
    "import matplotlib.pyplot as plt\n",
    "import numpy as np\n",
    "import pandas as pd\n",
    "import seaborn as sns\n",
    "import yfinance as yf\n",
    "from IPython.core.interactiveshell import InteractiveShell\n",
    "from tqdm.notebook import tqdm\n",
    "from scipy.stats import shapiro, normaltest, kstest\n",
    "\n",
    "InteractiveShell.ast_node_interactivity = \"all\""
   ]
  },
  {
   "cell_type": "code",
   "execution_count": 70,
   "id": "541bbe79-2d14-4bcd-a3c6-138b6ad7e9bb",
   "metadata": {},
   "outputs": [],
   "source": [
    "stocks = [\n",
    "    \"PGSUS.IS\",\n",
    "    \"ISCTR.IS\",\n",
    "    \"KCHOL.IS\",\n",
    "    \"ASELS.IS\",\n",
    "]"
   ]
  },
  {
   "cell_type": "code",
   "execution_count": 71,
   "id": "09d000f2-601d-48ac-9d87-4e7270707bfb",
   "metadata": {},
   "outputs": [
    {
     "name": "stdout",
     "output_type": "stream",
     "text": [
      "[*********************100%***********************]  4 of 4 completed\n"
     ]
    }
   ],
   "source": [
    "data = yf.download(tickers=stocks, period=\"max\",\n",
    "                   start=\"2020-01-03\")['Adj Close']\n",
    "\n",
    "data.clip(lower=0, inplace=True)\n",
    "data.fillna(0, inplace=True)"
   ]
  },
  {
   "cell_type": "code",
   "execution_count": 72,
   "id": "b86c37a8-bd4e-42e8-ae5a-94bb49b1bb5b",
   "metadata": {},
   "outputs": [
    {
     "data": {
      "text/html": [
       "<div>\n",
       "<style scoped>\n",
       "    .dataframe tbody tr th:only-of-type {\n",
       "        vertical-align: middle;\n",
       "    }\n",
       "\n",
       "    .dataframe tbody tr th {\n",
       "        vertical-align: top;\n",
       "    }\n",
       "\n",
       "    .dataframe thead th {\n",
       "        text-align: right;\n",
       "    }\n",
       "</style>\n",
       "<table border=\"1\" class=\"dataframe\">\n",
       "  <thead>\n",
       "    <tr style=\"text-align: right;\">\n",
       "      <th></th>\n",
       "      <th>ASELS.IS</th>\n",
       "      <th>ISCTR.IS</th>\n",
       "      <th>KCHOL.IS</th>\n",
       "      <th>PGSUS.IS</th>\n",
       "    </tr>\n",
       "    <tr>\n",
       "      <th>Date</th>\n",
       "      <th></th>\n",
       "      <th></th>\n",
       "      <th></th>\n",
       "      <th></th>\n",
       "    </tr>\n",
       "  </thead>\n",
       "  <tbody>\n",
       "    <tr>\n",
       "      <th>2021-08-31</th>\n",
       "      <td>0.005060</td>\n",
       "      <td>0.019504</td>\n",
       "      <td>-0.023729</td>\n",
       "      <td>-0.000708</td>\n",
       "    </tr>\n",
       "    <tr>\n",
       "      <th>2021-09-01</th>\n",
       "      <td>-0.011328</td>\n",
       "      <td>-0.005217</td>\n",
       "      <td>0.007812</td>\n",
       "      <td>0.012748</td>\n",
       "    </tr>\n",
       "    <tr>\n",
       "      <th>2021-09-02</th>\n",
       "      <td>0.001273</td>\n",
       "      <td>0.005245</td>\n",
       "      <td>-0.001723</td>\n",
       "      <td>-0.002797</td>\n",
       "    </tr>\n",
       "    <tr>\n",
       "      <th>2021-09-03</th>\n",
       "      <td>-0.001907</td>\n",
       "      <td>-0.010435</td>\n",
       "      <td>-0.006040</td>\n",
       "      <td>-0.005610</td>\n",
       "    </tr>\n",
       "    <tr>\n",
       "      <th>2021-09-06</th>\n",
       "      <td>-0.000637</td>\n",
       "      <td>0.008787</td>\n",
       "      <td>0.004340</td>\n",
       "      <td>0.005642</td>\n",
       "    </tr>\n",
       "  </tbody>\n",
       "</table>\n",
       "</div>"
      ],
      "text/plain": [
       "            ASELS.IS  ISCTR.IS  KCHOL.IS  PGSUS.IS\n",
       "Date                                              \n",
       "2021-08-31  0.005060  0.019504 -0.023729 -0.000708\n",
       "2021-09-01 -0.011328 -0.005217  0.007812  0.012748\n",
       "2021-09-02  0.001273  0.005245 -0.001723 -0.002797\n",
       "2021-09-03 -0.001907 -0.010435 -0.006040 -0.005610\n",
       "2021-09-06 -0.000637  0.008787  0.004340  0.005642"
      ]
     },
     "execution_count": 72,
     "metadata": {},
     "output_type": "execute_result"
    }
   ],
   "source": [
    "returns = data.pct_change().dropna()\n",
    "returns.tail()"
   ]
  },
  {
   "cell_type": "code",
   "execution_count": 84,
   "id": "f17639b0-461f-4e16-aa3e-cdd95f27fd35",
   "metadata": {},
   "outputs": [],
   "source": [
    "# Portfolio with random weights\n",
    "weights = np.random.random(len(stocks))\n",
    "weights = weights / np.sum(weights)\n",
    "\n",
    "# Portfolio PnLs\n",
    "PnL = (weights * returns).sum(axis=1)"
   ]
  },
  {
   "cell_type": "code",
   "execution_count": 110,
   "id": "b5d5f7dd-e20f-4d04-9e0a-b8fc5e9438d0",
   "metadata": {},
   "outputs": [
    {
     "name": "stdout",
     "output_type": "stream",
     "text": [
      "Confidence Level    Value-at-Risk\n",
      "---------------------------------\n",
      "            99.9          0.10379\n",
      "            99.0          0.05813\n",
      "            95.0          0.03256\n"
     ]
    }
   ],
   "source": [
    "percs = [0.1, 1, 5]\n",
    "var = np.percentile(PnL, percs, interpolation=\"lower\")\n",
    "print('%16s %16s' % ('Confidence Level', 'Value-at-Risk'))\n",
    "print(33 * '-')\n",
    "for pair in zip(percs, var):\n",
    "    print('%16.1f %16.5f' % (100 - pair[0], -pair[1]))"
   ]
  },
  {
   "cell_type": "code",
   "execution_count": 85,
   "id": "0b7cca1c-f135-4e89-9af6-890e88f2bb4f",
   "metadata": {},
   "outputs": [
    {
     "name": "stdout",
     "output_type": "stream",
     "text": [
      "Historical 99% VaR: -0.05813094911174911\n",
      "Historical 95% VaR: -0.03255777292807174\n"
     ]
    }
   ],
   "source": [
    "# Historical VaRs\n",
    "# https://medium.com/@matt_84072/historical-simulation-value-at-risk-explained-with-python-code-a904d848d146\n",
    "var_1p = np.percentile(PnL, 1, interpolation=\"lower\")\n",
    "var_5p = np.percentile(PnL, 5, interpolation=\"lower\")\n",
    "\n",
    "print(f\"Historical 99% VaR: {var_1p}\")\n",
    "print(f\"Historical 95% VaR: {var_5p}\")"
   ]
  },
  {
   "cell_type": "code",
   "execution_count": 111,
   "id": "f9c39e4a-d26f-4c8e-bed8-0998949d1533",
   "metadata": {},
   "outputs": [
    {
     "data": {
      "text/plain": [
       "<matplotlib.lines.Line2D at 0x238214c12e0>"
      ]
     },
     "execution_count": 111,
     "metadata": {},
     "output_type": "execute_result"
    },
    {
     "data": {
      "text/plain": [
       "<matplotlib.lines.Line2D at 0x2382188a340>"
      ]
     },
     "execution_count": 111,
     "metadata": {},
     "output_type": "execute_result"
    },
    {
     "data": {
      "text/plain": [
       "<matplotlib.legend.Legend at 0x238214afa30>"
      ]
     },
     "execution_count": 111,
     "metadata": {},
     "output_type": "execute_result"
    },
    {
     "data": {
      "text/plain": [
       "[Text(0.5, 6.79999999999999, 'PnL'),\n",
       " Text(0.42499999999999716, 0.5, 'Probability')]"
      ]
     },
     "execution_count": 111,
     "metadata": {},
     "output_type": "execute_result"
    },
    {
     "data": {
      "image/png": "[encoded data removed]",
      "text/plain": [
       "<Figure size 360x360 with 1 Axes>"
      ]
     },
     "metadata": {
      "needs_background": "light"
     },
     "output_type": "display_data"
    }
   ],
   "source": [
    "fig = sns.displot(PnL, kde=True, stat=\"probability\").axes.flatten()\n",
    "fig[0].axvline(var_1p, c=\"r\", linestyle=\"-\", label=\"1% VaR\")\n",
    "fig[0].axvline(var_5p, c=\"g\", linestyle=\"--\", label=\"5% VaR\")\n",
    "fig[0].legend()\n",
    "fig[0].set(xlabel='PnL', ylabel='Probability')"
   ]
  },
  {
   "cell_type": "code",
   "execution_count": 80,
   "id": "40a6b933-737f-48af-9749-9a25a13157a3",
   "metadata": {},
   "outputs": [
    {
     "data": {
      "application/vnd.jupyter.widget-view+json": {
       "model_id": "2646a37781a843aa9ed644dbc7c05b63",
       "version_major": 2,
       "version_minor": 0
      },
      "text/plain": [
       "  0%|          | 0/5000 [00:00<?, ?it/s]"
      ]
     },
     "metadata": {},
     "output_type": "display_data"
    },
    {
     "data": {
      "application/vnd.jupyter.widget-view+json": {
       "model_id": "735ac97e78754e8da747b4e80a575b8e",
       "version_major": 2,
       "version_minor": 0
      },
      "text/plain": [
       "  0%|          | 0/5000 [00:00<?, ?it/s]"
      ]
     },
     "metadata": {},
     "output_type": "display_data"
    },
    {
     "name": "stdout",
     "output_type": "stream",
     "text": [
      "Bootstrap 99% VaR: -0.06626183287860131\n",
      "Confidence intervals: [-0.09966348 -0.05024794]\n",
      "Bootstrap 95% VaR: -0.035440180885582526\n",
      "Confidence intervals: [-0.0478463  -0.02684057]\n"
     ]
    }
   ],
   "source": [
    "# Bootstrap VaR\n",
    "def VaR1(data):\n",
    "    return np.percentile(data, 1, interpolation=\"lower\")\n",
    "\n",
    "\n",
    "def VaR5(data):\n",
    "    return np.percentile(data, 5, interpolation=\"lower\")\n",
    "\n",
    "\n",
    "def bootstrap(data, func):\n",
    "    sample = np.random.choice(data, len(data))\n",
    "    return func(sample)\n",
    "\n",
    "\n",
    "def draw_bs_reps(data, func, size):\n",
    "    bs_reps = np.empty(size)\n",
    "    for i in tqdm(range(size)):\n",
    "        bs_reps[i] = bootstrap(data, func)\n",
    "    return bs_reps\n",
    "\n",
    "\n",
    "bs_var_1 = draw_bs_reps(PnL, VaR1, 5000)\n",
    "bs_var_5 = draw_bs_reps(PnL, VaR5, 5000)\n",
    "\n",
    "print(f\"Bootstrap 99% VaR: {np.mean(bs_var_1)}\")\n",
    "print(f\"Confidence intervals: {np.percentile(bs_var_1, [2.5, 97.5])}\")\n",
    "\n",
    "print(f\"Bootstrap 95% VaR: {np.mean(bs_var_5)}\")\n",
    "print(f\"Confidence intervals: {np.percentile(bs_var_5, [2.5, 97.5])}\")"
   ]
  },
  {
   "cell_type": "code",
   "execution_count": 116,
   "id": "55c96f8b-0f86-4e29-8c96-aa554fd34f78",
   "metadata": {},
   "outputs": [
    {
     "data": {
      "text/plain": [
       "-0.08570424750973445"
      ]
     },
     "execution_count": 116,
     "metadata": {},
     "output_type": "execute_result"
    },
    {
     "data": {
      "text/plain": [
       "-0.0522112397056073"
      ]
     },
     "execution_count": 116,
     "metadata": {},
     "output_type": "execute_result"
    }
   ],
   "source": [
    "# Conditional VaR - Expected tail loss - Expected shortfall\n",
    "exp_sf_1p = PnL[PnL < var_1p].mean()\n",
    "exp_sf_5p = PnL[PnL < var_5p].mean()\n",
    "\n",
    "exp_sf_1p\n",
    "exp_sf_5p"
   ]
  }
 ],
 "metadata": {
  "kernelspec": {
   "display_name": "Python 3 (ipykernel)",
   "language": "python",
   "name": "python3"
  },
  "language_info": {
   "codemirror_mode": {
    "name": "ipython",
    "version": 3
   },
   "file_extension": ".py",
   "mimetype": "text/x-python",
   "name": "python",
   "nbconvert_exporter": "python",
   "pygments_lexer": "ipython3",
   "version": "3.9.6"
  }
 },
 "nbformat": 4,
 "nbformat_minor": 5
}
