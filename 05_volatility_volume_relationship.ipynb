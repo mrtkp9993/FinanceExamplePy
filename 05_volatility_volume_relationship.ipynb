{
  "nbformat": 4,
  "nbformat_minor": 0,
  "metadata": {
    "colab": {
      "name": "05_volatility_volume_relationship.ipynb",
      "provenance": [],
      "collapsed_sections": [],
      "authorship_tag": "ABX9TyNCJab2p8AImGJhCdeSzZoD",
      "include_colab_link": true
    },
    "kernelspec": {
      "name": "python3",
      "display_name": "Python 3"
    },
    "language_info": {
      "name": "python"
    }
  },
  "cells": [
    {
      "cell_type": "markdown",
      "metadata": {
        "id": "view-in-github",
        "colab_type": "text"
      },
      "source": [
        "<a href=\"https://colab.research.google.com/github/mrtkp9993/QuantitaveFinanceExamplesPy/blob/main/05_volatility_volume_relationship.ipynb\" target=\"_parent\"><img src=\"https://colab.research.google.com/assets/colab-badge.svg\" alt=\"Open In Colab\"/></a>"
      ]
    },
    {
      "cell_type": "code",
      "metadata": {
        "id": "YhqzkqoG1xEo"
      },
      "source": [
        "!pip install yfinance"
      ],
      "execution_count": null,
      "outputs": []
    },
    {
      "cell_type": "code",
      "metadata": {
        "id": "bAM_eZzd2eN-"
      },
      "source": [
        "import yfinance as yf\n",
        "import pandas as pd\n",
        "import numpy as np\n",
        "import matplotlib.pyplot as plt\n",
        "import seaborn as sns\n",
        "import plotly.graph_objects as go\n",
        "from statsmodels.regression.linear_model import OLS\n",
        "from statsmodels.tools.tools import add_constant"
      ],
      "execution_count": 123,
      "outputs": []
    },
    {
      "cell_type": "code",
      "metadata": {
        "colab": {
          "base_uri": "https://localhost:8080/",
          "height": 467
        },
        "id": "tGMsKcxZ2lYq",
        "outputId": "8361763f-9218-40e6-8dcd-e07a0beee27e"
      },
      "source": [
        "thyao = yf.download(\"THYAO.IS\", period = \"max\", start = \"2020-01-02\")\n",
        "thyao.drop(['Close'], axis=1, inplace=True)\n",
        "thyao.rename(columns={'Adj Close':'Close'}, inplace=True)\n",
        "thyao"
      ],
      "execution_count": 105,
      "outputs": [
        {
          "output_type": "stream",
          "name": "stdout",
          "text": [
            "\r[*********************100%***********************]  1 of 1 completed\n"
          ]
        },
        {
          "output_type": "execute_result",
          "data": {
            "text/html": [
              "<div>\n",
              "<style scoped>\n",
              "    .dataframe tbody tr th:only-of-type {\n",
              "        vertical-align: middle;\n",
              "    }\n",
              "\n",
              "    .dataframe tbody tr th {\n",
              "        vertical-align: top;\n",
              "    }\n",
              "\n",
              "    .dataframe thead th {\n",
              "        text-align: right;\n",
              "    }\n",
              "</style>\n",
              "<table border=\"1\" class=\"dataframe\">\n",
              "  <thead>\n",
              "    <tr style=\"text-align: right;\">\n",
              "      <th></th>\n",
              "      <th>Open</th>\n",
              "      <th>High</th>\n",
              "      <th>Low</th>\n",
              "      <th>Close</th>\n",
              "      <th>Volume</th>\n",
              "    </tr>\n",
              "    <tr>\n",
              "      <th>Date</th>\n",
              "      <th></th>\n",
              "      <th></th>\n",
              "      <th></th>\n",
              "      <th></th>\n",
              "      <th></th>\n",
              "    </tr>\n",
              "  </thead>\n",
              "  <tbody>\n",
              "    <tr>\n",
              "      <th>2020-01-02</th>\n",
              "      <td>14.50</td>\n",
              "      <td>14.84</td>\n",
              "      <td>14.48</td>\n",
              "      <td>14.83</td>\n",
              "      <td>109370878</td>\n",
              "    </tr>\n",
              "    <tr>\n",
              "      <th>2020-01-03</th>\n",
              "      <td>14.67</td>\n",
              "      <td>14.73</td>\n",
              "      <td>14.09</td>\n",
              "      <td>14.27</td>\n",
              "      <td>153873531</td>\n",
              "    </tr>\n",
              "    <tr>\n",
              "      <th>2020-01-06</th>\n",
              "      <td>14.03</td>\n",
              "      <td>14.08</td>\n",
              "      <td>13.50</td>\n",
              "      <td>13.57</td>\n",
              "      <td>136423179</td>\n",
              "    </tr>\n",
              "    <tr>\n",
              "      <th>2020-01-07</th>\n",
              "      <td>13.79</td>\n",
              "      <td>13.86</td>\n",
              "      <td>13.52</td>\n",
              "      <td>13.54</td>\n",
              "      <td>154729229</td>\n",
              "    </tr>\n",
              "    <tr>\n",
              "      <th>2020-01-08</th>\n",
              "      <td>13.05</td>\n",
              "      <td>13.62</td>\n",
              "      <td>13.03</td>\n",
              "      <td>13.50</td>\n",
              "      <td>197012716</td>\n",
              "    </tr>\n",
              "    <tr>\n",
              "      <th>...</th>\n",
              "      <td>...</td>\n",
              "      <td>...</td>\n",
              "      <td>...</td>\n",
              "      <td>...</td>\n",
              "      <td>...</td>\n",
              "    </tr>\n",
              "    <tr>\n",
              "      <th>2021-08-24</th>\n",
              "      <td>12.55</td>\n",
              "      <td>12.85</td>\n",
              "      <td>12.53</td>\n",
              "      <td>12.81</td>\n",
              "      <td>115259132</td>\n",
              "    </tr>\n",
              "    <tr>\n",
              "      <th>2021-08-25</th>\n",
              "      <td>12.79</td>\n",
              "      <td>12.95</td>\n",
              "      <td>12.47</td>\n",
              "      <td>12.50</td>\n",
              "      <td>133481635</td>\n",
              "    </tr>\n",
              "    <tr>\n",
              "      <th>2021-08-26</th>\n",
              "      <td>12.70</td>\n",
              "      <td>12.90</td>\n",
              "      <td>12.61</td>\n",
              "      <td>12.79</td>\n",
              "      <td>130016212</td>\n",
              "    </tr>\n",
              "    <tr>\n",
              "      <th>2021-08-27</th>\n",
              "      <td>12.75</td>\n",
              "      <td>12.75</td>\n",
              "      <td>12.53</td>\n",
              "      <td>12.68</td>\n",
              "      <td>64421920</td>\n",
              "    </tr>\n",
              "    <tr>\n",
              "      <th>2021-08-31</th>\n",
              "      <td>12.72</td>\n",
              "      <td>12.76</td>\n",
              "      <td>12.71</td>\n",
              "      <td>12.74</td>\n",
              "      <td>5670673</td>\n",
              "    </tr>\n",
              "  </tbody>\n",
              "</table>\n",
              "<p>414 rows × 5 columns</p>\n",
              "</div>"
            ],
            "text/plain": [
              "             Open   High    Low  Close     Volume\n",
              "Date                                             \n",
              "2020-01-02  14.50  14.84  14.48  14.83  109370878\n",
              "2020-01-03  14.67  14.73  14.09  14.27  153873531\n",
              "2020-01-06  14.03  14.08  13.50  13.57  136423179\n",
              "2020-01-07  13.79  13.86  13.52  13.54  154729229\n",
              "2020-01-08  13.05  13.62  13.03  13.50  197012716\n",
              "...           ...    ...    ...    ...        ...\n",
              "2021-08-24  12.55  12.85  12.53  12.81  115259132\n",
              "2021-08-25  12.79  12.95  12.47  12.50  133481635\n",
              "2021-08-26  12.70  12.90  12.61  12.79  130016212\n",
              "2021-08-27  12.75  12.75  12.53  12.68   64421920\n",
              "2021-08-31  12.72  12.76  12.71  12.74    5670673\n",
              "\n",
              "[414 rows x 5 columns]"
            ]
          },
          "metadata": {},
          "execution_count": 105
        }
      ]
    },
    {
      "cell_type": "code",
      "metadata": {
        "id": "alPe-gr52sw4"
      },
      "source": [
        "# True Range as Volatility proxy\n",
        "thyao['TR'] = thyao.Close - thyao.Open"
      ],
      "execution_count": 106,
      "outputs": []
    },
    {
      "cell_type": "code",
      "metadata": {
        "id": "U_B_jcHM3FCz"
      },
      "source": [
        "# Normalize volume and tr for each day by \n",
        "# subtracting the mean of the last 20 days \n",
        "# and dividing by the last 20 days’ standard \n",
        "# deviation for each\n",
        "thyao['TR_norm'] = np.nan\n",
        "thyao['Vol_norm'] = np.nan "
      ],
      "execution_count": 107,
      "outputs": []
    },
    {
      "cell_type": "code",
      "metadata": {
        "id": "-D3ksEBa54fg"
      },
      "source": [
        "for i in range(22, len(thyao)):\n",
        "  data = thyao.iloc[i-22:i, [4,5]]\n",
        "  \n",
        "  Vol_mean = np.mean(data.Volume)\n",
        "  Vol_stdd = np.std(data.Volume)\n",
        "  TR_mean = np.mean(data.TR)\n",
        "  TR_stdd = np.std(data.TR)\n",
        "  \n",
        "  thyao.loc[thyao.index[i], \"Vol_norm\"] = (thyao.loc[thyao.index[i], \"Volume\"] - Vol_mean) / Vol_stdd\n",
        "  thyao.loc[thyao.index[i], \"TR_norm\"] = (thyao.loc[thyao.index[i], \"TR\"] - TR_mean) / TR_stdd\n",
        "\n",
        "thyao.dropna(inplace=True)"
      ],
      "execution_count": 114,
      "outputs": []
    },
    {
      "cell_type": "code",
      "metadata": {
        "colab": {
          "base_uri": "https://localhost:8080/",
          "height": 297
        },
        "id": "wE5ZWz4f6BU5",
        "outputId": "5473c5d4-69d7-41a9-a729-ab72d3c1c1c6"
      },
      "source": [
        "# Scatter plot with regression line\n",
        "sns.regplot(data=thyao, x=\"Vol_norm\", y=\"TR_norm\", )"
      ],
      "execution_count": 117,
      "outputs": [
        {
          "output_type": "execute_result",
          "data": {
            "text/plain": [
              "<matplotlib.axes._subplots.AxesSubplot at 0x7f4d559535d0>"
            ]
          },
          "metadata": {},
          "execution_count": 117
        },
        {
          "output_type": "display_data",
          "data": {
            "image/png": "[encoded data removed]",
            "text/plain": [
              "<Figure size 432x288 with 1 Axes>"
            ]
          },
          "metadata": {
            "needs_background": "light"
          }
        }
      ]
    },
    {
      "cell_type": "code",
      "metadata": {
        "colab": {
          "base_uri": "https://localhost:8080/",
          "height": 444
        },
        "id": "wILPdrGSCkrC",
        "outputId": "f92e00d8-801f-4940-aa6b-87606a43d2f7"
      },
      "source": [
        "# OLS\n",
        "lm = OLS(thyao.TR_norm, add_constant(thyao.Vol_norm))\n",
        "res = lm.fit()\n",
        "res.summary()"
      ],
      "execution_count": 124,
      "outputs": [
        {
          "output_type": "execute_result",
          "data": {
            "text/html": [
              "<table class=\"simpletable\">\n",
              "<caption>OLS Regression Results</caption>\n",
              "<tr>\n",
              "  <th>Dep. Variable:</th>         <td>TR_norm</td>     <th>  R-squared:         </th> <td>   0.148</td>\n",
              "</tr>\n",
              "<tr>\n",
              "  <th>Model:</th>                   <td>OLS</td>       <th>  Adj. R-squared:    </th> <td>   0.146</td>\n",
              "</tr>\n",
              "<tr>\n",
              "  <th>Method:</th>             <td>Least Squares</td>  <th>  F-statistic:       </th> <td>   67.86</td>\n",
              "</tr>\n",
              "<tr>\n",
              "  <th>Date:</th>             <td>Tue, 31 Aug 2021</td> <th>  Prob (F-statistic):</th> <td>2.68e-15</td>\n",
              "</tr>\n",
              "<tr>\n",
              "  <th>Time:</th>                 <td>07:34:30</td>     <th>  Log-Likelihood:    </th> <td> -604.58</td>\n",
              "</tr>\n",
              "<tr>\n",
              "  <th>No. Observations:</th>      <td>   392</td>      <th>  AIC:               </th> <td>   1213.</td>\n",
              "</tr>\n",
              "<tr>\n",
              "  <th>Df Residuals:</th>          <td>   390</td>      <th>  BIC:               </th> <td>   1221.</td>\n",
              "</tr>\n",
              "<tr>\n",
              "  <th>Df Model:</th>              <td>     1</td>      <th>                     </th>     <td> </td>   \n",
              "</tr>\n",
              "<tr>\n",
              "  <th>Covariance Type:</th>      <td>nonrobust</td>    <th>                     </th>     <td> </td>   \n",
              "</tr>\n",
              "</table>\n",
              "<table class=\"simpletable\">\n",
              "<tr>\n",
              "      <td></td>        <th>coef</th>     <th>std err</th>      <th>t</th>      <th>P>|t|</th>  <th>[0.025</th>    <th>0.975]</th>  \n",
              "</tr>\n",
              "<tr>\n",
              "  <th>const</th>    <td>   -0.0198</td> <td>    0.057</td> <td>   -0.346</td> <td> 0.730</td> <td>   -0.133</td> <td>    0.093</td>\n",
              "</tr>\n",
              "<tr>\n",
              "  <th>Vol_norm</th> <td>    0.3242</td> <td>    0.039</td> <td>    8.238</td> <td> 0.000</td> <td>    0.247</td> <td>    0.402</td>\n",
              "</tr>\n",
              "</table>\n",
              "<table class=\"simpletable\">\n",
              "<tr>\n",
              "  <th>Omnibus:</th>       <td>49.992</td> <th>  Durbin-Watson:     </th> <td>   1.979</td>\n",
              "</tr>\n",
              "<tr>\n",
              "  <th>Prob(Omnibus):</th> <td> 0.000</td> <th>  Jarque-Bera (JB):  </th> <td> 377.561</td>\n",
              "</tr>\n",
              "<tr>\n",
              "  <th>Skew:</th>          <td> 0.101</td> <th>  Prob(JB):          </th> <td>1.03e-82</td>\n",
              "</tr>\n",
              "<tr>\n",
              "  <th>Kurtosis:</th>      <td> 7.804</td> <th>  Cond. No.          </th> <td>    1.46</td>\n",
              "</tr>\n",
              "</table><br/><br/>Warnings:<br/>[1] Standard Errors assume that the covariance matrix of the errors is correctly specified."
            ],
            "text/plain": [
              "<class 'statsmodels.iolib.summary.Summary'>\n",
              "\"\"\"\n",
              "                            OLS Regression Results                            \n",
              "==============================================================================\n",
              "Dep. Variable:                TR_norm   R-squared:                       0.148\n",
              "Model:                            OLS   Adj. R-squared:                  0.146\n",
              "Method:                 Least Squares   F-statistic:                     67.86\n",
              "Date:                Tue, 31 Aug 2021   Prob (F-statistic):           2.68e-15\n",
              "Time:                        07:34:30   Log-Likelihood:                -604.58\n",
              "No. Observations:                 392   AIC:                             1213.\n",
              "Df Residuals:                     390   BIC:                             1221.\n",
              "Df Model:                           1                                         \n",
              "Covariance Type:            nonrobust                                         \n",
              "==============================================================================\n",
              "                 coef    std err          t      P>|t|      [0.025      0.975]\n",
              "------------------------------------------------------------------------------\n",
              "const         -0.0198      0.057     -0.346      0.730      -0.133       0.093\n",
              "Vol_norm       0.3242      0.039      8.238      0.000       0.247       0.402\n",
              "==============================================================================\n",
              "Omnibus:                       49.992   Durbin-Watson:                   1.979\n",
              "Prob(Omnibus):                  0.000   Jarque-Bera (JB):              377.561\n",
              "Skew:                           0.101   Prob(JB):                     1.03e-82\n",
              "Kurtosis:                       7.804   Cond. No.                         1.46\n",
              "==============================================================================\n",
              "\n",
              "Warnings:\n",
              "[1] Standard Errors assume that the covariance matrix of the errors is correctly specified.\n",
              "\"\"\""
            ]
          },
          "metadata": {},
          "execution_count": 124
        }
      ]
    }
  ]
}