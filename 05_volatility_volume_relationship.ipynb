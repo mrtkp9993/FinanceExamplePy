{
 "cells": [
  {
   "cell_type": "code",
   "execution_count": 1,
   "metadata": {
    "id": "bAM_eZzd2eN-"
   },
   "outputs": [],
   "source": [
    "import matplotlib.pyplot as plt\n",
    "import numpy as np\n",
    "import pandas as pd\n",
    "import plotly.graph_objects as go\n",
    "import seaborn as sns\n",
    "import yfinance as yf\n",
    "from statsmodels.regression.linear_model import OLS\n",
    "from statsmodels.tools.tools import add_constant"
   ]
  },
  {
   "cell_type": "code",
   "execution_count": 2,
   "metadata": {
    "colab": {
     "base_uri": "https://localhost:8080/",
     "height": 467
    },
    "id": "tGMsKcxZ2lYq",
    "outputId": "8361763f-9218-40e6-8dcd-e07a0beee27e"
   },
   "outputs": [
    {
     "name": "stdout",
     "output_type": "stream",
     "text": [
      "[*********************100%***********************]  1 of 1 completed\n"
     ]
    },
    {
     "data": {
      "text/html": [
       "<div>\n",
       "<style scoped>\n",
       "    .dataframe tbody tr th:only-of-type {\n",
       "        vertical-align: middle;\n",
       "    }\n",
       "\n",
       "    .dataframe tbody tr th {\n",
       "        vertical-align: top;\n",
       "    }\n",
       "\n",
       "    .dataframe thead th {\n",
       "        text-align: right;\n",
       "    }\n",
       "</style>\n",
       "<table border=\"1\" class=\"dataframe\">\n",
       "  <thead>\n",
       "    <tr style=\"text-align: right;\">\n",
       "      <th></th>\n",
       "      <th>Open</th>\n",
       "      <th>High</th>\n",
       "      <th>Low</th>\n",
       "      <th>Close</th>\n",
       "      <th>Volume</th>\n",
       "    </tr>\n",
       "    <tr>\n",
       "      <th>Date</th>\n",
       "      <th></th>\n",
       "      <th></th>\n",
       "      <th></th>\n",
       "      <th></th>\n",
       "      <th></th>\n",
       "    </tr>\n",
       "  </thead>\n",
       "  <tbody>\n",
       "    <tr>\n",
       "      <th>2020-01-02</th>\n",
       "      <td>14.50</td>\n",
       "      <td>14.84</td>\n",
       "      <td>14.48</td>\n",
       "      <td>14.83</td>\n",
       "      <td>109370878</td>\n",
       "    </tr>\n",
       "    <tr>\n",
       "      <th>2020-01-03</th>\n",
       "      <td>14.67</td>\n",
       "      <td>14.73</td>\n",
       "      <td>14.09</td>\n",
       "      <td>14.27</td>\n",
       "      <td>153873531</td>\n",
       "    </tr>\n",
       "    <tr>\n",
       "      <th>2020-01-06</th>\n",
       "      <td>14.03</td>\n",
       "      <td>14.08</td>\n",
       "      <td>13.50</td>\n",
       "      <td>13.57</td>\n",
       "      <td>136423179</td>\n",
       "    </tr>\n",
       "    <tr>\n",
       "      <th>2020-01-07</th>\n",
       "      <td>13.79</td>\n",
       "      <td>13.86</td>\n",
       "      <td>13.52</td>\n",
       "      <td>13.54</td>\n",
       "      <td>154729229</td>\n",
       "    </tr>\n",
       "    <tr>\n",
       "      <th>2020-01-08</th>\n",
       "      <td>13.05</td>\n",
       "      <td>13.62</td>\n",
       "      <td>13.03</td>\n",
       "      <td>13.50</td>\n",
       "      <td>197012716</td>\n",
       "    </tr>\n",
       "    <tr>\n",
       "      <th>...</th>\n",
       "      <td>...</td>\n",
       "      <td>...</td>\n",
       "      <td>...</td>\n",
       "      <td>...</td>\n",
       "      <td>...</td>\n",
       "    </tr>\n",
       "    <tr>\n",
       "      <th>2021-08-27</th>\n",
       "      <td>12.75</td>\n",
       "      <td>12.75</td>\n",
       "      <td>12.53</td>\n",
       "      <td>12.68</td>\n",
       "      <td>64421920</td>\n",
       "    </tr>\n",
       "    <tr>\n",
       "      <th>2021-08-31</th>\n",
       "      <td>12.72</td>\n",
       "      <td>12.78</td>\n",
       "      <td>12.64</td>\n",
       "      <td>12.68</td>\n",
       "      <td>53636208</td>\n",
       "    </tr>\n",
       "    <tr>\n",
       "      <th>2021-09-01</th>\n",
       "      <td>12.73</td>\n",
       "      <td>12.98</td>\n",
       "      <td>12.73</td>\n",
       "      <td>12.90</td>\n",
       "      <td>89007860</td>\n",
       "    </tr>\n",
       "    <tr>\n",
       "      <th>2021-09-02</th>\n",
       "      <td>12.92</td>\n",
       "      <td>12.93</td>\n",
       "      <td>12.80</td>\n",
       "      <td>12.90</td>\n",
       "      <td>54512227</td>\n",
       "    </tr>\n",
       "    <tr>\n",
       "      <th>2021-09-03</th>\n",
       "      <td>12.95</td>\n",
       "      <td>13.09</td>\n",
       "      <td>12.82</td>\n",
       "      <td>12.88</td>\n",
       "      <td>92161781</td>\n",
       "    </tr>\n",
       "  </tbody>\n",
       "</table>\n",
       "<p>417 rows × 5 columns</p>\n",
       "</div>"
      ],
      "text/plain": [
       "             Open   High    Low  Close     Volume\n",
       "Date                                             \n",
       "2020-01-02  14.50  14.84  14.48  14.83  109370878\n",
       "2020-01-03  14.67  14.73  14.09  14.27  153873531\n",
       "2020-01-06  14.03  14.08  13.50  13.57  136423179\n",
       "2020-01-07  13.79  13.86  13.52  13.54  154729229\n",
       "2020-01-08  13.05  13.62  13.03  13.50  197012716\n",
       "...           ...    ...    ...    ...        ...\n",
       "2021-08-27  12.75  12.75  12.53  12.68   64421920\n",
       "2021-08-31  12.72  12.78  12.64  12.68   53636208\n",
       "2021-09-01  12.73  12.98  12.73  12.90   89007860\n",
       "2021-09-02  12.92  12.93  12.80  12.90   54512227\n",
       "2021-09-03  12.95  13.09  12.82  12.88   92161781\n",
       "\n",
       "[417 rows x 5 columns]"
      ]
     },
     "execution_count": 2,
     "metadata": {},
     "output_type": "execute_result"
    }
   ],
   "source": [
    "thyao = yf.download(\"THYAO.IS\", period=\"max\", start=\"2020-01-02\")\n",
    "thyao.drop([\"Close\"], axis=1, inplace=True)\n",
    "thyao.rename(columns={\"Adj Close\": \"Close\"}, inplace=True)\n",
    "thyao"
   ]
  },
  {
   "cell_type": "code",
   "execution_count": 3,
   "metadata": {
    "id": "alPe-gr52sw4"
   },
   "outputs": [],
   "source": [
    "# True Range as Volatility proxy\n",
    "thyao[\"TR\"] = thyao.Close - thyao.Open"
   ]
  },
  {
   "cell_type": "code",
   "execution_count": 4,
   "metadata": {
    "id": "U_B_jcHM3FCz"
   },
   "outputs": [],
   "source": [
    "# Normalize volume and tr for each day by\n",
    "# subtracting the mean of the last 20 days\n",
    "# and dividing by the last 20 days’ standard\n",
    "# deviation for each\n",
    "thyao[\"TR_norm\"] = np.nan\n",
    "thyao[\"Vol_norm\"] = np.nan"
   ]
  },
  {
   "cell_type": "code",
   "execution_count": 5,
   "metadata": {
    "id": "-D3ksEBa54fg"
   },
   "outputs": [],
   "source": [
    "for i in range(22, len(thyao)):\n",
    "    data = thyao.iloc[i - 22 : i, [4, 5]]\n",
    "\n",
    "    Vol_mean = np.mean(data.Volume)\n",
    "    Vol_stdd = np.std(data.Volume)\n",
    "    TR_mean = np.mean(data.TR)\n",
    "    TR_stdd = np.std(data.TR)\n",
    "\n",
    "    thyao.loc[thyao.index[i], \"Vol_norm\"] = (\n",
    "        thyao.loc[thyao.index[i], \"Volume\"] - Vol_mean\n",
    "    ) / Vol_stdd\n",
    "    thyao.loc[thyao.index[i], \"TR_norm\"] = (\n",
    "        thyao.loc[thyao.index[i], \"TR\"] - TR_mean\n",
    "    ) / TR_stdd\n",
    "\n",
    "thyao.dropna(inplace=True)"
   ]
  },
  {
   "cell_type": "code",
   "execution_count": 6,
   "metadata": {
    "colab": {
     "base_uri": "https://localhost:8080/",
     "height": 297
    },
    "id": "wE5ZWz4f6BU5",
    "outputId": "5473c5d4-69d7-41a9-a729-ab72d3c1c1c6"
   },
   "outputs": [
    {
     "data": {
      "text/plain": [
       "<AxesSubplot:xlabel='Vol_norm', ylabel='TR_norm'>"
      ]
     },
     "execution_count": 6,
     "metadata": {},
     "output_type": "execute_result"
    },
    {
     "data": {
      "image/png": "[encoded data removed]",
      "text/plain": [
       "<Figure size 432x288 with 1 Axes>"
      ]
     },
     "metadata": {
      "needs_background": "light"
     },
     "output_type": "display_data"
    }
   ],
   "source": [
    "# Scatter plot with regression line\n",
    "sns.regplot(\n",
    "    data=thyao,\n",
    "    x=\"Vol_norm\",\n",
    "    y=\"TR_norm\",\n",
    ")"
   ]
  },
  {
   "cell_type": "code",
   "execution_count": 7,
   "metadata": {
    "colab": {
     "base_uri": "https://localhost:8080/",
     "height": 444
    },
    "id": "wILPdrGSCkrC",
    "outputId": "f92e00d8-801f-4940-aa6b-87606a43d2f7"
   },
   "outputs": [
    {
     "name": "stderr",
     "output_type": "stream",
     "text": [
      "C:\\Users\\murat\\AppData\\Roaming\\Python\\Python39\\site-packages\\statsmodels\\tsa\\tsatools.py:142: FutureWarning: In a future version of pandas all arguments of concat except for the argument 'objs' will be keyword-only\n",
      "  x = pd.concat(x[::order], 1)\n"
     ]
    },
    {
     "data": {
      "text/html": [
       "<table class=\"simpletable\">\n",
       "<caption>OLS Regression Results</caption>\n",
       "<tr>\n",
       "  <th>Dep. Variable:</th>         <td>TR_norm</td>     <th>  R-squared:         </th> <td>   0.150</td>\n",
       "</tr>\n",
       "<tr>\n",
       "  <th>Model:</th>                   <td>OLS</td>       <th>  Adj. R-squared:    </th> <td>   0.148</td>\n",
       "</tr>\n",
       "<tr>\n",
       "  <th>Method:</th>             <td>Least Squares</td>  <th>  F-statistic:       </th> <td>   69.30</td>\n",
       "</tr>\n",
       "<tr>\n",
       "  <th>Date:</th>             <td>Sat, 04 Sep 2021</td> <th>  Prob (F-statistic):</th> <td>1.41e-15</td>\n",
       "</tr>\n",
       "<tr>\n",
       "  <th>Time:</th>                 <td>09:33:22</td>     <th>  Log-Likelihood:    </th> <td> -607.84</td>\n",
       "</tr>\n",
       "<tr>\n",
       "  <th>No. Observations:</th>      <td>   395</td>      <th>  AIC:               </th> <td>   1220.</td>\n",
       "</tr>\n",
       "<tr>\n",
       "  <th>Df Residuals:</th>          <td>   393</td>      <th>  BIC:               </th> <td>   1228.</td>\n",
       "</tr>\n",
       "<tr>\n",
       "  <th>Df Model:</th>              <td>     1</td>      <th>                     </th>     <td> </td>   \n",
       "</tr>\n",
       "<tr>\n",
       "  <th>Covariance Type:</th>      <td>nonrobust</td>    <th>                     </th>     <td> </td>   \n",
       "</tr>\n",
       "</table>\n",
       "<table class=\"simpletable\">\n",
       "<tr>\n",
       "      <td></td>        <th>coef</th>     <th>std err</th>      <th>t</th>      <th>P>|t|</th>  <th>[0.025</th>    <th>0.975]</th>  \n",
       "</tr>\n",
       "<tr>\n",
       "  <th>const</th>    <td>   -0.0211</td> <td>    0.057</td> <td>   -0.371</td> <td> 0.711</td> <td>   -0.133</td> <td>    0.091</td>\n",
       "</tr>\n",
       "<tr>\n",
       "  <th>Vol_norm</th> <td>    0.3271</td> <td>    0.039</td> <td>    8.325</td> <td> 0.000</td> <td>    0.250</td> <td>    0.404</td>\n",
       "</tr>\n",
       "</table>\n",
       "<table class=\"simpletable\">\n",
       "<tr>\n",
       "  <th>Omnibus:</th>       <td>50.548</td> <th>  Durbin-Watson:     </th> <td>   1.979</td>\n",
       "</tr>\n",
       "<tr>\n",
       "  <th>Prob(Omnibus):</th> <td> 0.000</td> <th>  Jarque-Bera (JB):  </th> <td> 385.946</td>\n",
       "</tr>\n",
       "<tr>\n",
       "  <th>Skew:</th>          <td> 0.097</td> <th>  Prob(JB):          </th> <td>1.56e-84</td>\n",
       "</tr>\n",
       "<tr>\n",
       "  <th>Kurtosis:</th>      <td> 7.839</td> <th>  Cond. No.          </th> <td>    1.45</td>\n",
       "</tr>\n",
       "</table><br/><br/>Notes:<br/>[1] Standard Errors assume that the covariance matrix of the errors is correctly specified."
      ],
      "text/plain": [
       "<class 'statsmodels.iolib.summary.Summary'>\n",
       "\"\"\"\n",
       "                            OLS Regression Results                            \n",
       "==============================================================================\n",
       "Dep. Variable:                TR_norm   R-squared:                       0.150\n",
       "Model:                            OLS   Adj. R-squared:                  0.148\n",
       "Method:                 Least Squares   F-statistic:                     69.30\n",
       "Date:                Sat, 04 Sep 2021   Prob (F-statistic):           1.41e-15\n",
       "Time:                        09:33:22   Log-Likelihood:                -607.84\n",
       "No. Observations:                 395   AIC:                             1220.\n",
       "Df Residuals:                     393   BIC:                             1228.\n",
       "Df Model:                           1                                         \n",
       "Covariance Type:            nonrobust                                         \n",
       "==============================================================================\n",
       "                 coef    std err          t      P>|t|      [0.025      0.975]\n",
       "------------------------------------------------------------------------------\n",
       "const         -0.0211      0.057     -0.371      0.711      -0.133       0.091\n",
       "Vol_norm       0.3271      0.039      8.325      0.000       0.250       0.404\n",
       "==============================================================================\n",
       "Omnibus:                       50.548   Durbin-Watson:                   1.979\n",
       "Prob(Omnibus):                  0.000   Jarque-Bera (JB):              385.946\n",
       "Skew:                           0.097   Prob(JB):                     1.56e-84\n",
       "Kurtosis:                       7.839   Cond. No.                         1.45\n",
       "==============================================================================\n",
       "\n",
       "Notes:\n",
       "[1] Standard Errors assume that the covariance matrix of the errors is correctly specified.\n",
       "\"\"\""
      ]
     },
     "execution_count": 7,
     "metadata": {},
     "output_type": "execute_result"
    }
   ],
   "source": [
    "# OLS\n",
    "lm = OLS(thyao.TR_norm, add_constant(thyao.Vol_norm))\n",
    "res = lm.fit()\n",
    "res.summary()"
   ]
  }
 ],
 "metadata": {
  "colab": {
   "authorship_tag": "ABX9TyNCJab2p8AImGJhCdeSzZoD",
   "collapsed_sections": [],
   "include_colab_link": true,
   "name": "05_volatility_volume_relationship.ipynb",
   "provenance": []
  },
  "kernelspec": {
   "display_name": "Python 3 (ipykernel)",
   "language": "python",
   "name": "python3"
  },
  "language_info": {
   "codemirror_mode": {
    "name": "ipython",
    "version": 3
   },
   "file_extension": ".py",
   "mimetype": "text/x-python",
   "name": "python",
   "nbconvert_exporter": "python",
   "pygments_lexer": "ipython3",
   "version": "3.9.6"
  }
 },
 "nbformat": 4,
 "nbformat_minor": 4
}
