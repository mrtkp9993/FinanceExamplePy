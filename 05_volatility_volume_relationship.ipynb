{
 "cells": [
  {
   "cell_type": "markdown",
   "source": [
    "<a href=\"https://colab.research.google.com/github/mrtkp9993/QuantitaveFinanceExamplesPy/blob/main/05_volatility_volume_relationship.ipynb\" target=\"_parent\"><img src=\"https://colab.research.google.com/assets/colab-badge.svg\" alt=\"Open In Colab\"/></a>"
   ],
   "metadata": {
    "colab_type": "text",
    "id": "view-in-github"
   }
  },
  {
   "cell_type": "code",
   "execution_count": 3,
   "source": [
    "import matplotlib.pyplot as plt\r\n",
    "import numpy as np\r\n",
    "import pandas as pd\r\n",
    "import plotly.graph_objects as go\r\n",
    "import seaborn as sns\r\n",
    "import yfinance as yf\r\n",
    "from statsmodels.regression.linear_model import OLS\r\n",
    "from statsmodels.tools.tools import add_constant"
   ],
   "outputs": [
    {
     "output_type": "display_data",
     "data": {
      "text/plain": [
       "<IPython.core.display.Javascript object>"
      ],
      "application/javascript": "\n            setTimeout(function() {\n                var nbb_cell_id = 3;\n                var nbb_unformatted_code = \"import matplotlib.pyplot as plt\\nimport numpy as np\\nimport pandas as pd\\nimport plotly.graph_objects as go\\nimport seaborn as sns\\nimport yfinance as yf\\nfrom statsmodels.regression.linear_model import OLS\\nfrom statsmodels.tools.tools import add_constant\";\n                var nbb_formatted_code = \"import matplotlib.pyplot as plt\\nimport numpy as np\\nimport pandas as pd\\nimport plotly.graph_objects as go\\nimport seaborn as sns\\nimport yfinance as yf\\nfrom statsmodels.regression.linear_model import OLS\\nfrom statsmodels.tools.tools import add_constant\";\n                var nbb_cells = Jupyter.notebook.get_cells();\n                for (var i = 0; i < nbb_cells.length; ++i) {\n                    if (nbb_cells[i].input_prompt_number == nbb_cell_id) {\n                        if (nbb_cells[i].get_text() == nbb_unformatted_code) {\n                             nbb_cells[i].set_text(nbb_formatted_code);\n                        }\n                        break;\n                    }\n                }\n            }, 500);\n            "
     },
     "metadata": {}
    }
   ],
   "metadata": {
    "id": "bAM_eZzd2eN-"
   }
  },
  {
   "cell_type": "code",
   "execution_count": 4,
   "source": [
    "thyao = yf.download(\"THYAO.IS\", period=\"max\", start=\"2020-01-02\")\r\n",
    "thyao.drop([\"Close\"], axis=1, inplace=True)\r\n",
    "thyao.rename(columns={\"Adj Close\": \"Close\"}, inplace=True)\r\n",
    "thyao"
   ],
   "outputs": [
    {
     "output_type": "stream",
     "name": "stdout",
     "text": [
      "[*********************100%***********************]  1 of 1 completed\n"
     ]
    },
    {
     "output_type": "execute_result",
     "data": {
      "text/plain": [
       "             Open   High    Low  Close     Volume\n",
       "Date                                             \n",
       "2020-01-02  14.50  14.84  14.48  14.83  109370878\n",
       "2020-01-03  14.67  14.73  14.09  14.27  153873531\n",
       "2020-01-06  14.03  14.08  13.50  13.57  136423179\n",
       "2020-01-07  13.79  13.86  13.52  13.54  154729229\n",
       "2020-01-08  13.05  13.62  13.03  13.50  197012716\n",
       "...           ...    ...    ...    ...        ...\n",
       "2021-08-24  12.55  12.85  12.53  12.81  115259132\n",
       "2021-08-25  12.79  12.95  12.47  12.50  133481635\n",
       "2021-08-26  12.70  12.90  12.61  12.79  130016212\n",
       "2021-08-27  12.75  12.75  12.53  12.68   64421920\n",
       "2021-08-31  12.72  12.78  12.64  12.68   53636208\n",
       "\n",
       "[414 rows x 5 columns]"
      ],
      "text/html": [
       "<div>\n",
       "<style scoped>\n",
       "    .dataframe tbody tr th:only-of-type {\n",
       "        vertical-align: middle;\n",
       "    }\n",
       "\n",
       "    .dataframe tbody tr th {\n",
       "        vertical-align: top;\n",
       "    }\n",
       "\n",
       "    .dataframe thead th {\n",
       "        text-align: right;\n",
       "    }\n",
       "</style>\n",
       "<table border=\"1\" class=\"dataframe\">\n",
       "  <thead>\n",
       "    <tr style=\"text-align: right;\">\n",
       "      <th></th>\n",
       "      <th>Open</th>\n",
       "      <th>High</th>\n",
       "      <th>Low</th>\n",
       "      <th>Close</th>\n",
       "      <th>Volume</th>\n",
       "    </tr>\n",
       "    <tr>\n",
       "      <th>Date</th>\n",
       "      <th></th>\n",
       "      <th></th>\n",
       "      <th></th>\n",
       "      <th></th>\n",
       "      <th></th>\n",
       "    </tr>\n",
       "  </thead>\n",
       "  <tbody>\n",
       "    <tr>\n",
       "      <th>2020-01-02</th>\n",
       "      <td>14.50</td>\n",
       "      <td>14.84</td>\n",
       "      <td>14.48</td>\n",
       "      <td>14.83</td>\n",
       "      <td>109370878</td>\n",
       "    </tr>\n",
       "    <tr>\n",
       "      <th>2020-01-03</th>\n",
       "      <td>14.67</td>\n",
       "      <td>14.73</td>\n",
       "      <td>14.09</td>\n",
       "      <td>14.27</td>\n",
       "      <td>153873531</td>\n",
       "    </tr>\n",
       "    <tr>\n",
       "      <th>2020-01-06</th>\n",
       "      <td>14.03</td>\n",
       "      <td>14.08</td>\n",
       "      <td>13.50</td>\n",
       "      <td>13.57</td>\n",
       "      <td>136423179</td>\n",
       "    </tr>\n",
       "    <tr>\n",
       "      <th>2020-01-07</th>\n",
       "      <td>13.79</td>\n",
       "      <td>13.86</td>\n",
       "      <td>13.52</td>\n",
       "      <td>13.54</td>\n",
       "      <td>154729229</td>\n",
       "    </tr>\n",
       "    <tr>\n",
       "      <th>2020-01-08</th>\n",
       "      <td>13.05</td>\n",
       "      <td>13.62</td>\n",
       "      <td>13.03</td>\n",
       "      <td>13.50</td>\n",
       "      <td>197012716</td>\n",
       "    </tr>\n",
       "    <tr>\n",
       "      <th>...</th>\n",
       "      <td>...</td>\n",
       "      <td>...</td>\n",
       "      <td>...</td>\n",
       "      <td>...</td>\n",
       "      <td>...</td>\n",
       "    </tr>\n",
       "    <tr>\n",
       "      <th>2021-08-24</th>\n",
       "      <td>12.55</td>\n",
       "      <td>12.85</td>\n",
       "      <td>12.53</td>\n",
       "      <td>12.81</td>\n",
       "      <td>115259132</td>\n",
       "    </tr>\n",
       "    <tr>\n",
       "      <th>2021-08-25</th>\n",
       "      <td>12.79</td>\n",
       "      <td>12.95</td>\n",
       "      <td>12.47</td>\n",
       "      <td>12.50</td>\n",
       "      <td>133481635</td>\n",
       "    </tr>\n",
       "    <tr>\n",
       "      <th>2021-08-26</th>\n",
       "      <td>12.70</td>\n",
       "      <td>12.90</td>\n",
       "      <td>12.61</td>\n",
       "      <td>12.79</td>\n",
       "      <td>130016212</td>\n",
       "    </tr>\n",
       "    <tr>\n",
       "      <th>2021-08-27</th>\n",
       "      <td>12.75</td>\n",
       "      <td>12.75</td>\n",
       "      <td>12.53</td>\n",
       "      <td>12.68</td>\n",
       "      <td>64421920</td>\n",
       "    </tr>\n",
       "    <tr>\n",
       "      <th>2021-08-31</th>\n",
       "      <td>12.72</td>\n",
       "      <td>12.78</td>\n",
       "      <td>12.64</td>\n",
       "      <td>12.68</td>\n",
       "      <td>53636208</td>\n",
       "    </tr>\n",
       "  </tbody>\n",
       "</table>\n",
       "<p>414 rows × 5 columns</p>\n",
       "</div>"
      ]
     },
     "metadata": {},
     "execution_count": 4
    },
    {
     "output_type": "display_data",
     "data": {
      "text/plain": [
       "<IPython.core.display.Javascript object>"
      ],
      "application/javascript": "\n            setTimeout(function() {\n                var nbb_cell_id = 4;\n                var nbb_unformatted_code = \"thyao = yf.download(\\\"THYAO.IS\\\", period = \\\"max\\\", start = \\\"2020-01-02\\\")\\nthyao.drop(['Close'], axis=1, inplace=True)\\nthyao.rename(columns={'Adj Close':'Close'}, inplace=True)\\nthyao\";\n                var nbb_formatted_code = \"thyao = yf.download(\\\"THYAO.IS\\\", period=\\\"max\\\", start=\\\"2020-01-02\\\")\\nthyao.drop([\\\"Close\\\"], axis=1, inplace=True)\\nthyao.rename(columns={\\\"Adj Close\\\": \\\"Close\\\"}, inplace=True)\\nthyao\";\n                var nbb_cells = Jupyter.notebook.get_cells();\n                for (var i = 0; i < nbb_cells.length; ++i) {\n                    if (nbb_cells[i].input_prompt_number == nbb_cell_id) {\n                        if (nbb_cells[i].get_text() == nbb_unformatted_code) {\n                             nbb_cells[i].set_text(nbb_formatted_code);\n                        }\n                        break;\n                    }\n                }\n            }, 500);\n            "
     },
     "metadata": {}
    }
   ],
   "metadata": {
    "colab": {
     "base_uri": "https://localhost:8080/",
     "height": 467
    },
    "id": "tGMsKcxZ2lYq",
    "outputId": "8361763f-9218-40e6-8dcd-e07a0beee27e"
   }
  },
  {
   "cell_type": "code",
   "execution_count": 5,
   "source": [
    "# True Range as Volatility proxy\r\n",
    "thyao[\"TR\"] = thyao.Close - thyao.Open"
   ],
   "outputs": [
    {
     "output_type": "display_data",
     "data": {
      "text/plain": [
       "<IPython.core.display.Javascript object>"
      ],
      "application/javascript": "\n            setTimeout(function() {\n                var nbb_cell_id = 5;\n                var nbb_unformatted_code = \"# True Range as Volatility proxy\\nthyao['TR'] = thyao.Close - thyao.Open\";\n                var nbb_formatted_code = \"# True Range as Volatility proxy\\nthyao[\\\"TR\\\"] = thyao.Close - thyao.Open\";\n                var nbb_cells = Jupyter.notebook.get_cells();\n                for (var i = 0; i < nbb_cells.length; ++i) {\n                    if (nbb_cells[i].input_prompt_number == nbb_cell_id) {\n                        if (nbb_cells[i].get_text() == nbb_unformatted_code) {\n                             nbb_cells[i].set_text(nbb_formatted_code);\n                        }\n                        break;\n                    }\n                }\n            }, 500);\n            "
     },
     "metadata": {}
    }
   ],
   "metadata": {
    "id": "alPe-gr52sw4"
   }
  },
  {
   "cell_type": "code",
   "execution_count": 6,
   "source": [
    "# Normalize volume and tr for each day by\n",
    "# subtracting the mean of the last 20 days\n",
    "# and dividing by the last 20 days’ standard\n",
    "# deviation for each\n",
    "thyao[\"TR_norm\"] = np.nan\n",
    "thyao[\"Vol_norm\"] = np.nan"
   ],
   "outputs": [
    {
     "output_type": "display_data",
     "data": {
      "text/plain": [
       "<IPython.core.display.Javascript object>"
      ],
      "application/javascript": "\n            setTimeout(function() {\n                var nbb_cell_id = 6;\n                var nbb_unformatted_code = \"# Normalize volume and tr for each day by \\n# subtracting the mean of the last 20 days \\n# and dividing by the last 20 days\\u2019 standard \\n# deviation for each\\nthyao['TR_norm'] = np.nan\\nthyao['Vol_norm'] = np.nan \";\n                var nbb_formatted_code = \"# Normalize volume and tr for each day by\\n# subtracting the mean of the last 20 days\\n# and dividing by the last 20 days\\u2019 standard\\n# deviation for each\\nthyao[\\\"TR_norm\\\"] = np.nan\\nthyao[\\\"Vol_norm\\\"] = np.nan\";\n                var nbb_cells = Jupyter.notebook.get_cells();\n                for (var i = 0; i < nbb_cells.length; ++i) {\n                    if (nbb_cells[i].input_prompt_number == nbb_cell_id) {\n                        if (nbb_cells[i].get_text() == nbb_unformatted_code) {\n                             nbb_cells[i].set_text(nbb_formatted_code);\n                        }\n                        break;\n                    }\n                }\n            }, 500);\n            "
     },
     "metadata": {}
    }
   ],
   "metadata": {
    "id": "U_B_jcHM3FCz"
   }
  },
  {
   "cell_type": "code",
   "execution_count": 7,
   "source": [
    "for i in range(22, len(thyao)):\n",
    "    data = thyao.iloc[i - 22 : i, [4, 5]]\n",
    "\n",
    "    Vol_mean = np.mean(data.Volume)\n",
    "    Vol_stdd = np.std(data.Volume)\n",
    "    TR_mean = np.mean(data.TR)\n",
    "    TR_stdd = np.std(data.TR)\n",
    "\n",
    "    thyao.loc[thyao.index[i], \"Vol_norm\"] = (\n",
    "        thyao.loc[thyao.index[i], \"Volume\"] - Vol_mean\n",
    "    ) / Vol_stdd\n",
    "    thyao.loc[thyao.index[i], \"TR_norm\"] = (\n",
    "        thyao.loc[thyao.index[i], \"TR\"] - TR_mean\n",
    "    ) / TR_stdd\n",
    "\n",
    "thyao.dropna(inplace=True)"
   ],
   "outputs": [
    {
     "output_type": "display_data",
     "data": {
      "text/plain": [
       "<IPython.core.display.Javascript object>"
      ],
      "application/javascript": "\n            setTimeout(function() {\n                var nbb_cell_id = 7;\n                var nbb_unformatted_code = \"for i in range(22, len(thyao)):\\n  data = thyao.iloc[i-22:i, [4,5]]\\n  \\n  Vol_mean = np.mean(data.Volume)\\n  Vol_stdd = np.std(data.Volume)\\n  TR_mean = np.mean(data.TR)\\n  TR_stdd = np.std(data.TR)\\n  \\n  thyao.loc[thyao.index[i], \\\"Vol_norm\\\"] = (thyao.loc[thyao.index[i], \\\"Volume\\\"] - Vol_mean) / Vol_stdd\\n  thyao.loc[thyao.index[i], \\\"TR_norm\\\"] = (thyao.loc[thyao.index[i], \\\"TR\\\"] - TR_mean) / TR_stdd\\n\\nthyao.dropna(inplace=True)\";\n                var nbb_formatted_code = \"for i in range(22, len(thyao)):\\n    data = thyao.iloc[i - 22 : i, [4, 5]]\\n\\n    Vol_mean = np.mean(data.Volume)\\n    Vol_stdd = np.std(data.Volume)\\n    TR_mean = np.mean(data.TR)\\n    TR_stdd = np.std(data.TR)\\n\\n    thyao.loc[thyao.index[i], \\\"Vol_norm\\\"] = (\\n        thyao.loc[thyao.index[i], \\\"Volume\\\"] - Vol_mean\\n    ) / Vol_stdd\\n    thyao.loc[thyao.index[i], \\\"TR_norm\\\"] = (\\n        thyao.loc[thyao.index[i], \\\"TR\\\"] - TR_mean\\n    ) / TR_stdd\\n\\nthyao.dropna(inplace=True)\";\n                var nbb_cells = Jupyter.notebook.get_cells();\n                for (var i = 0; i < nbb_cells.length; ++i) {\n                    if (nbb_cells[i].input_prompt_number == nbb_cell_id) {\n                        if (nbb_cells[i].get_text() == nbb_unformatted_code) {\n                             nbb_cells[i].set_text(nbb_formatted_code);\n                        }\n                        break;\n                    }\n                }\n            }, 500);\n            "
     },
     "metadata": {}
    }
   ],
   "metadata": {
    "id": "-D3ksEBa54fg"
   }
  },
  {
   "cell_type": "code",
   "execution_count": 8,
   "source": [
    "# Scatter plot with regression line\n",
    "sns.regplot(\n",
    "    data=thyao,\n",
    "    x=\"Vol_norm\",\n",
    "    y=\"TR_norm\",\n",
    ")"
   ],
   "outputs": [
    {
     "output_type": "execute_result",
     "data": {
      "text/plain": [
       "<AxesSubplot:xlabel='Vol_norm', ylabel='TR_norm'>"
      ]
     },
     "metadata": {},
     "execution_count": 8
    },
    {
     "output_type": "display_data",
     "data": {
      "text/plain": [
       "<Figure size 432x288 with 1 Axes>"
      ],
      "image/png": "[encoded data removed]"
     },
     "metadata": {
      "needs_background": "light"
     }
    },
    {
     "output_type": "display_data",
     "data": {
      "text/plain": [
       "<IPython.core.display.Javascript object>"
      ],
      "application/javascript": "\n            setTimeout(function() {\n                var nbb_cell_id = 8;\n                var nbb_unformatted_code = \"# Scatter plot with regression line\\nsns.regplot(data=thyao, x=\\\"Vol_norm\\\", y=\\\"TR_norm\\\", )\";\n                var nbb_formatted_code = \"# Scatter plot with regression line\\nsns.regplot(\\n    data=thyao,\\n    x=\\\"Vol_norm\\\",\\n    y=\\\"TR_norm\\\",\\n)\";\n                var nbb_cells = Jupyter.notebook.get_cells();\n                for (var i = 0; i < nbb_cells.length; ++i) {\n                    if (nbb_cells[i].input_prompt_number == nbb_cell_id) {\n                        if (nbb_cells[i].get_text() == nbb_unformatted_code) {\n                             nbb_cells[i].set_text(nbb_formatted_code);\n                        }\n                        break;\n                    }\n                }\n            }, 500);\n            "
     },
     "metadata": {}
    }
   ],
   "metadata": {
    "colab": {
     "base_uri": "https://localhost:8080/",
     "height": 297
    },
    "id": "wE5ZWz4f6BU5",
    "outputId": "5473c5d4-69d7-41a9-a729-ab72d3c1c1c6"
   }
  },
  {
   "cell_type": "code",
   "execution_count": 9,
   "source": [
    "# OLS\n",
    "lm = OLS(thyao.TR_norm, add_constant(thyao.Vol_norm))\n",
    "res = lm.fit()\n",
    "res.summary()"
   ],
   "outputs": [
    {
     "output_type": "stream",
     "name": "stderr",
     "text": [
      "C:\\Users\\murat\\AppData\\Roaming\\Python\\Python39\\site-packages\\statsmodels\\tsa\\tsatools.py:142: FutureWarning: In a future version of pandas all arguments of concat except for the argument 'objs' will be keyword-only\n",
      "  x = pd.concat(x[::order], 1)\n"
     ]
    },
    {
     "output_type": "execute_result",
     "data": {
      "text/plain": [
       "<class 'statsmodels.iolib.summary.Summary'>\n",
       "\"\"\"\n",
       "                            OLS Regression Results                            \n",
       "==============================================================================\n",
       "Dep. Variable:                TR_norm   R-squared:                       0.150\n",
       "Model:                            OLS   Adj. R-squared:                  0.148\n",
       "Method:                 Least Squares   F-statistic:                     68.70\n",
       "Date:                Wed, 01 Sep 2021   Prob (F-statistic):           1.87e-15\n",
       "Time:                        08:55:31   Log-Likelihood:                -604.21\n",
       "No. Observations:                 392   AIC:                             1212.\n",
       "Df Residuals:                     390   BIC:                             1220.\n",
       "Df Model:                           1                                         \n",
       "Covariance Type:            nonrobust                                         \n",
       "==============================================================================\n",
       "                 coef    std err          t      P>|t|      [0.025      0.975]\n",
       "------------------------------------------------------------------------------\n",
       "const         -0.0224      0.057     -0.392      0.695      -0.135       0.090\n",
       "Vol_norm       0.3268      0.039      8.288      0.000       0.249       0.404\n",
       "==============================================================================\n",
       "Omnibus:                       50.109   Durbin-Watson:                   1.980\n",
       "Prob(Omnibus):                  0.000   Jarque-Bera (JB):              380.060\n",
       "Skew:                           0.100   Prob(JB):                     2.96e-83\n",
       "Kurtosis:                       7.820   Cond. No.                         1.46\n",
       "==============================================================================\n",
       "\n",
       "Notes:\n",
       "[1] Standard Errors assume that the covariance matrix of the errors is correctly specified.\n",
       "\"\"\""
      ],
      "text/html": [
       "<table class=\"simpletable\">\n",
       "<caption>OLS Regression Results</caption>\n",
       "<tr>\n",
       "  <th>Dep. Variable:</th>         <td>TR_norm</td>     <th>  R-squared:         </th> <td>   0.150</td>\n",
       "</tr>\n",
       "<tr>\n",
       "  <th>Model:</th>                   <td>OLS</td>       <th>  Adj. R-squared:    </th> <td>   0.148</td>\n",
       "</tr>\n",
       "<tr>\n",
       "  <th>Method:</th>             <td>Least Squares</td>  <th>  F-statistic:       </th> <td>   68.70</td>\n",
       "</tr>\n",
       "<tr>\n",
       "  <th>Date:</th>             <td>Wed, 01 Sep 2021</td> <th>  Prob (F-statistic):</th> <td>1.87e-15</td>\n",
       "</tr>\n",
       "<tr>\n",
       "  <th>Time:</th>                 <td>08:55:31</td>     <th>  Log-Likelihood:    </th> <td> -604.21</td>\n",
       "</tr>\n",
       "<tr>\n",
       "  <th>No. Observations:</th>      <td>   392</td>      <th>  AIC:               </th> <td>   1212.</td>\n",
       "</tr>\n",
       "<tr>\n",
       "  <th>Df Residuals:</th>          <td>   390</td>      <th>  BIC:               </th> <td>   1220.</td>\n",
       "</tr>\n",
       "<tr>\n",
       "  <th>Df Model:</th>              <td>     1</td>      <th>                     </th>     <td> </td>   \n",
       "</tr>\n",
       "<tr>\n",
       "  <th>Covariance Type:</th>      <td>nonrobust</td>    <th>                     </th>     <td> </td>   \n",
       "</tr>\n",
       "</table>\n",
       "<table class=\"simpletable\">\n",
       "<tr>\n",
       "      <td></td>        <th>coef</th>     <th>std err</th>      <th>t</th>      <th>P>|t|</th>  <th>[0.025</th>    <th>0.975]</th>  \n",
       "</tr>\n",
       "<tr>\n",
       "  <th>const</th>    <td>   -0.0224</td> <td>    0.057</td> <td>   -0.392</td> <td> 0.695</td> <td>   -0.135</td> <td>    0.090</td>\n",
       "</tr>\n",
       "<tr>\n",
       "  <th>Vol_norm</th> <td>    0.3268</td> <td>    0.039</td> <td>    8.288</td> <td> 0.000</td> <td>    0.249</td> <td>    0.404</td>\n",
       "</tr>\n",
       "</table>\n",
       "<table class=\"simpletable\">\n",
       "<tr>\n",
       "  <th>Omnibus:</th>       <td>50.109</td> <th>  Durbin-Watson:     </th> <td>   1.980</td>\n",
       "</tr>\n",
       "<tr>\n",
       "  <th>Prob(Omnibus):</th> <td> 0.000</td> <th>  Jarque-Bera (JB):  </th> <td> 380.060</td>\n",
       "</tr>\n",
       "<tr>\n",
       "  <th>Skew:</th>          <td> 0.100</td> <th>  Prob(JB):          </th> <td>2.96e-83</td>\n",
       "</tr>\n",
       "<tr>\n",
       "  <th>Kurtosis:</th>      <td> 7.820</td> <th>  Cond. No.          </th> <td>    1.46</td>\n",
       "</tr>\n",
       "</table><br/><br/>Notes:<br/>[1] Standard Errors assume that the covariance matrix of the errors is correctly specified."
      ]
     },
     "metadata": {},
     "execution_count": 9
    },
    {
     "output_type": "display_data",
     "data": {
      "text/plain": [
       "<IPython.core.display.Javascript object>"
      ],
      "application/javascript": "\n            setTimeout(function() {\n                var nbb_cell_id = 9;\n                var nbb_unformatted_code = \"# OLS\\nlm = OLS(thyao.TR_norm, add_constant(thyao.Vol_norm))\\nres = lm.fit()\\nres.summary()\";\n                var nbb_formatted_code = \"# OLS\\nlm = OLS(thyao.TR_norm, add_constant(thyao.Vol_norm))\\nres = lm.fit()\\nres.summary()\";\n                var nbb_cells = Jupyter.notebook.get_cells();\n                for (var i = 0; i < nbb_cells.length; ++i) {\n                    if (nbb_cells[i].input_prompt_number == nbb_cell_id) {\n                        if (nbb_cells[i].get_text() == nbb_unformatted_code) {\n                             nbb_cells[i].set_text(nbb_formatted_code);\n                        }\n                        break;\n                    }\n                }\n            }, 500);\n            "
     },
     "metadata": {}
    }
   ],
   "metadata": {
    "colab": {
     "base_uri": "https://localhost:8080/",
     "height": 444
    },
    "id": "wILPdrGSCkrC",
    "outputId": "f92e00d8-801f-4940-aa6b-87606a43d2f7"
   }
  }
 ],
 "metadata": {
  "colab": {
   "authorship_tag": "ABX9TyNCJab2p8AImGJhCdeSzZoD",
   "collapsed_sections": [],
   "include_colab_link": true,
   "name": "05_volatility_volume_relationship.ipynb",
   "provenance": []
  },
  "kernelspec": {
   "display_name": "Python 3 (ipykernel)",
   "language": "python",
   "name": "python3"
  },
  "language_info": {
   "codemirror_mode": {
    "name": "ipython",
    "version": 3
   },
   "file_extension": ".py",
   "mimetype": "text/x-python",
   "name": "python",
   "nbconvert_exporter": "python",
   "pygments_lexer": "ipython3",
   "version": "3.9.6"
  }
 },
 "nbformat": 4,
 "nbformat_minor": 2
}