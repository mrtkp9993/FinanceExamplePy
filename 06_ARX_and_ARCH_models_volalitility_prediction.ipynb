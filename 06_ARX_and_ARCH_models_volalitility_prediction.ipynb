{
 "cells": [
  {
   "cell_type": "markdown",
   "source": [
    "<a href=\"https://colab.research.google.com/github/mrtkp9993/QuantitaveFinanceExamplesPy/blob/main/06_ARX_and_ARCH_models_volalitility_prediction.ipynb\" target=\"_parent\"><img src=\"https://colab.research.google.com/assets/colab-badge.svg\" alt=\"Open In Colab\"/></a>"
   ],
   "metadata": {
    "colab_type": "text",
    "id": "view-in-github"
   }
  },
  {
   "cell_type": "code",
   "execution_count": 3,
   "source": [
    "import datetime as dt\r\n",
    "import sys\r\n",
    "\r\n",
    "import matplotlib.pyplot as plt\r\n",
    "import numpy as np\r\n",
    "import pandas as pd\r\n",
    "import plotly.graph_objects as go\r\n",
    "import seaborn as sns\r\n",
    "import yfinance as yf\r\n",
    "from arch import arch_model\r\n",
    "from arch.__future__ import reindexing\r\n",
    "from arch.unitroot import VarianceRatio\r\n",
    "from arch.univariate import ARX, GARCH\r\n",
    "from statsmodels.graphics.tsaplots import plot_acf, plot_pacf\r\n",
    "from tqdm.notebook import tqdm"
   ],
   "outputs": [
    {
     "output_type": "display_data",
     "data": {
      "text/plain": [
       "<IPython.core.display.Javascript object>"
      ],
      "application/javascript": "\n            setTimeout(function() {\n                var nbb_cell_id = 3;\n                var nbb_unformatted_code = \"import datetime as dt\\nimport sys\\n\\nimport matplotlib.pyplot as plt\\nimport numpy as np\\nimport pandas as pd\\nimport plotly.graph_objects as go\\nimport seaborn as sns\\nimport yfinance as yf\\nfrom arch import arch_model\\nfrom arch.__future__ import reindexing\\nfrom arch.unitroot import VarianceRatio\\nfrom arch.univariate import ARX, GARCH\\nfrom statsmodels.graphics.tsaplots import plot_acf, plot_pacf\\nfrom tqdm.notebook import tqdm\";\n                var nbb_formatted_code = \"import datetime as dt\\nimport sys\\n\\nimport matplotlib.pyplot as plt\\nimport numpy as np\\nimport pandas as pd\\nimport plotly.graph_objects as go\\nimport seaborn as sns\\nimport yfinance as yf\\nfrom arch import arch_model\\nfrom arch.__future__ import reindexing\\nfrom arch.unitroot import VarianceRatio\\nfrom arch.univariate import ARX, GARCH\\nfrom statsmodels.graphics.tsaplots import plot_acf, plot_pacf\\nfrom tqdm.notebook import tqdm\";\n                var nbb_cells = Jupyter.notebook.get_cells();\n                for (var i = 0; i < nbb_cells.length; ++i) {\n                    if (nbb_cells[i].input_prompt_number == nbb_cell_id) {\n                        if (nbb_cells[i].get_text() == nbb_unformatted_code) {\n                             nbb_cells[i].set_text(nbb_formatted_code);\n                        }\n                        break;\n                    }\n                }\n            }, 500);\n            "
     },
     "metadata": {}
    }
   ],
   "metadata": {
    "id": "zIM6MmlLrZ_T"
   }
  },
  {
   "cell_type": "code",
   "execution_count": 4,
   "source": [
    "data = yf.download(\"KCHOL.IS\", period=\"max\", start=\"2018-01-03\")\r\n",
    "data.drop([\"Open\", \"High\", \"Low\", \"Close\", \"Volume\"], axis=1, inplace=True)\r\n",
    "data.rename(columns={\"Adj Close\": \"Price\"}, inplace=True)\r\n",
    "data"
   ],
   "outputs": [
    {
     "output_type": "stream",
     "name": "stdout",
     "text": [
      "[*********************100%***********************]  1 of 1 completed\n"
     ]
    },
    {
     "output_type": "execute_result",
     "data": {
      "text/plain": [
       "                Price\n",
       "Date                 \n",
       "2018-01-02  17.516148\n",
       "2018-01-03  17.006323\n",
       "2018-01-04  16.714993\n",
       "2018-01-05  16.906178\n",
       "2018-01-08  16.787825\n",
       "...               ...\n",
       "2021-08-24  24.100000\n",
       "2021-08-25  23.459999\n",
       "2021-08-26  23.420000\n",
       "2021-08-27  23.600000\n",
       "2021-08-31  23.040001\n",
       "\n",
       "[934 rows x 1 columns]"
      ],
      "text/html": [
       "<div>\n",
       "<style scoped>\n",
       "    .dataframe tbody tr th:only-of-type {\n",
       "        vertical-align: middle;\n",
       "    }\n",
       "\n",
       "    .dataframe tbody tr th {\n",
       "        vertical-align: top;\n",
       "    }\n",
       "\n",
       "    .dataframe thead th {\n",
       "        text-align: right;\n",
       "    }\n",
       "</style>\n",
       "<table border=\"1\" class=\"dataframe\">\n",
       "  <thead>\n",
       "    <tr style=\"text-align: right;\">\n",
       "      <th></th>\n",
       "      <th>Price</th>\n",
       "    </tr>\n",
       "    <tr>\n",
       "      <th>Date</th>\n",
       "      <th></th>\n",
       "    </tr>\n",
       "  </thead>\n",
       "  <tbody>\n",
       "    <tr>\n",
       "      <th>2018-01-02</th>\n",
       "      <td>17.516148</td>\n",
       "    </tr>\n",
       "    <tr>\n",
       "      <th>2018-01-03</th>\n",
       "      <td>17.006323</td>\n",
       "    </tr>\n",
       "    <tr>\n",
       "      <th>2018-01-04</th>\n",
       "      <td>16.714993</td>\n",
       "    </tr>\n",
       "    <tr>\n",
       "      <th>2018-01-05</th>\n",
       "      <td>16.906178</td>\n",
       "    </tr>\n",
       "    <tr>\n",
       "      <th>2018-01-08</th>\n",
       "      <td>16.787825</td>\n",
       "    </tr>\n",
       "    <tr>\n",
       "      <th>...</th>\n",
       "      <td>...</td>\n",
       "    </tr>\n",
       "    <tr>\n",
       "      <th>2021-08-24</th>\n",
       "      <td>24.100000</td>\n",
       "    </tr>\n",
       "    <tr>\n",
       "      <th>2021-08-25</th>\n",
       "      <td>23.459999</td>\n",
       "    </tr>\n",
       "    <tr>\n",
       "      <th>2021-08-26</th>\n",
       "      <td>23.420000</td>\n",
       "    </tr>\n",
       "    <tr>\n",
       "      <th>2021-08-27</th>\n",
       "      <td>23.600000</td>\n",
       "    </tr>\n",
       "    <tr>\n",
       "      <th>2021-08-31</th>\n",
       "      <td>23.040001</td>\n",
       "    </tr>\n",
       "  </tbody>\n",
       "</table>\n",
       "<p>934 rows × 1 columns</p>\n",
       "</div>"
      ]
     },
     "metadata": {},
     "execution_count": 4
    },
    {
     "output_type": "display_data",
     "data": {
      "text/plain": [
       "<IPython.core.display.Javascript object>"
      ],
      "application/javascript": "\n            setTimeout(function() {\n                var nbb_cell_id = 4;\n                var nbb_unformatted_code = \"data = yf.download(\\\"KCHOL.IS\\\", period = \\\"max\\\", start = \\\"2018-01-03\\\")\\ndata.drop(['Open',\\t'High',\\t'Low',\\t'Close', 'Volume'], axis=1, inplace=True)\\ndata.rename(columns={'Adj Close':'Price'}, inplace=True)\\ndata\";\n                var nbb_formatted_code = \"data = yf.download(\\\"KCHOL.IS\\\", period=\\\"max\\\", start=\\\"2018-01-03\\\")\\ndata.drop([\\\"Open\\\", \\\"High\\\", \\\"Low\\\", \\\"Close\\\", \\\"Volume\\\"], axis=1, inplace=True)\\ndata.rename(columns={\\\"Adj Close\\\": \\\"Price\\\"}, inplace=True)\\ndata\";\n                var nbb_cells = Jupyter.notebook.get_cells();\n                for (var i = 0; i < nbb_cells.length; ++i) {\n                    if (nbb_cells[i].input_prompt_number == nbb_cell_id) {\n                        if (nbb_cells[i].get_text() == nbb_unformatted_code) {\n                             nbb_cells[i].set_text(nbb_formatted_code);\n                        }\n                        break;\n                    }\n                }\n            }, 500);\n            "
     },
     "metadata": {}
    }
   ],
   "metadata": {
    "colab": {
     "base_uri": "https://localhost:8080/",
     "height": 467
    },
    "id": "Z14XWyF2riWu",
    "outputId": "c729f00e-1031-4ad7-882f-9db07748016b"
   }
  },
  {
   "cell_type": "code",
   "execution_count": 5,
   "source": [
    "plot_acf(data)\n",
    "plot_pacf(data)\n",
    "plt.show()"
   ],
   "outputs": [
    {
     "output_type": "display_data",
     "data": {
      "text/plain": [
       "<Figure size 432x288 with 1 Axes>"
      ],
      "image/png": "[encoded data removed]"
     },
     "metadata": {
      "needs_background": "light"
     }
    },
    {
     "output_type": "display_data",
     "data": {
      "text/plain": [
       "<Figure size 432x288 with 1 Axes>"
      ],
      "image/png": "[encoded data removed]"
     },
     "metadata": {
      "needs_background": "light"
     }
    },
    {
     "output_type": "display_data",
     "data": {
      "text/plain": [
       "<IPython.core.display.Javascript object>"
      ],
      "application/javascript": "\n            setTimeout(function() {\n                var nbb_cell_id = 5;\n                var nbb_unformatted_code = \"plot_acf(data)\\nplot_pacf(data)\\nplt.show()\";\n                var nbb_formatted_code = \"plot_acf(data)\\nplot_pacf(data)\\nplt.show()\";\n                var nbb_cells = Jupyter.notebook.get_cells();\n                for (var i = 0; i < nbb_cells.length; ++i) {\n                    if (nbb_cells[i].input_prompt_number == nbb_cell_id) {\n                        if (nbb_cells[i].get_text() == nbb_unformatted_code) {\n                             nbb_cells[i].set_text(nbb_formatted_code);\n                        }\n                        break;\n                    }\n                }\n            }, 500);\n            "
     },
     "metadata": {}
    }
   ],
   "metadata": {
    "colab": {
     "base_uri": "https://localhost:8080/",
     "height": 545
    },
    "id": "Ajkn6BWLwo4T",
    "outputId": "5bc91440-0e99-4e05-a098-e1e51b0b1268"
   }
  },
  {
   "cell_type": "code",
   "execution_count": 6,
   "source": [
    "VarianceRatio(data)  # Price is unpredictable!!!"
   ],
   "outputs": [
    {
     "output_type": "execute_result",
     "data": {
      "text/plain": [
       "<class 'arch.unitroot.unitroot.VarianceRatio'>\n",
       "\"\"\"\n",
       "     Variance-Ratio Test Results     \n",
       "=====================================\n",
       "Test Statistic                  0.306\n",
       "P-value                         0.759\n",
       "Lags                                2\n",
       "-------------------------------------\n",
       "\n",
       "Computed with overlapping blocks (de-biased)\n",
       "\"\"\""
      ],
      "text/html": [
       "<table class=\"simpletable\">\n",
       "<caption>Variance-Ratio Test Results</caption>\n",
       "<tr>\n",
       "  <td>Test Statistic</td>     <td>0.306</td>\n",
       "</tr>\n",
       "<tr>\n",
       "  <td>P-value</td>            <td>0.759</td>\n",
       "</tr>\n",
       "<tr>\n",
       "  <td>Lags</td>                   <td>2</td>\n",
       "</tr>\n",
       "</table><br/><br/>Computed with overlapping blocks (de-biased)"
      ]
     },
     "metadata": {},
     "execution_count": 6
    },
    {
     "output_type": "display_data",
     "data": {
      "text/plain": [
       "<IPython.core.display.Javascript object>"
      ],
      "application/javascript": "\n            setTimeout(function() {\n                var nbb_cell_id = 6;\n                var nbb_unformatted_code = \"VarianceRatio(data) # Price is unpredictable!!!\";\n                var nbb_formatted_code = \"VarianceRatio(data)  # Price is unpredictable!!!\";\n                var nbb_cells = Jupyter.notebook.get_cells();\n                for (var i = 0; i < nbb_cells.length; ++i) {\n                    if (nbb_cells[i].input_prompt_number == nbb_cell_id) {\n                        if (nbb_cells[i].get_text() == nbb_unformatted_code) {\n                             nbb_cells[i].set_text(nbb_formatted_code);\n                        }\n                        break;\n                    }\n                }\n            }, 500);\n            "
     },
     "metadata": {}
    }
   ],
   "metadata": {
    "colab": {
     "base_uri": "https://localhost:8080/",
     "height": 167
    },
    "id": "3J0wmPFtuBy4",
    "outputId": "2aa2454e-6e30-421d-feb2-4d77199454fc"
   }
  },
  {
   "cell_type": "code",
   "execution_count": 7,
   "source": [
    "# Calculate returns and squared returns\n",
    "data[\"ret\"] = np.log(data.Price) - np.log(data.Price.shift(1))\n",
    "data[\"ret_sq\"] = data[\"ret\"] ** 2\n",
    "data.dropna(inplace=True)"
   ],
   "outputs": [
    {
     "output_type": "display_data",
     "data": {
      "text/plain": [
       "<IPython.core.display.Javascript object>"
      ],
      "application/javascript": "\n            setTimeout(function() {\n                var nbb_cell_id = 7;\n                var nbb_unformatted_code = \"# Calculate returns and squared returns\\ndata['ret'] = np.log(data.Price) - np.log(data.Price.shift(1))\\ndata['ret_sq'] =data['ret'] ** 2\\ndata.dropna(inplace=True)\";\n                var nbb_formatted_code = \"# Calculate returns and squared returns\\ndata[\\\"ret\\\"] = np.log(data.Price) - np.log(data.Price.shift(1))\\ndata[\\\"ret_sq\\\"] = data[\\\"ret\\\"] ** 2\\ndata.dropna(inplace=True)\";\n                var nbb_cells = Jupyter.notebook.get_cells();\n                for (var i = 0; i < nbb_cells.length; ++i) {\n                    if (nbb_cells[i].input_prompt_number == nbb_cell_id) {\n                        if (nbb_cells[i].get_text() == nbb_unformatted_code) {\n                             nbb_cells[i].set_text(nbb_formatted_code);\n                        }\n                        break;\n                    }\n                }\n            }, 500);\n            "
     },
     "metadata": {}
    }
   ],
   "metadata": {
    "id": "Vibrbqq9wAbF"
   }
  },
  {
   "cell_type": "code",
   "execution_count": 8,
   "source": [
    "plot_acf(data[\"ret\"])\n",
    "plot_pacf(data[\"ret\"])\n",
    "plt.show()"
   ],
   "outputs": [
    {
     "output_type": "display_data",
     "data": {
      "text/plain": [
       "<Figure size 432x288 with 1 Axes>"
      ],
      "image/png": "[encoded data removed]"
     },
     "metadata": {
      "needs_background": "light"
     }
    },
    {
     "output_type": "display_data",
     "data": {
      "text/plain": [
       "<Figure size 432x288 with 1 Axes>"
      ],
      "image/png": "[encoded data removed]"
     },
     "metadata": {
      "needs_background": "light"
     }
    },
    {
     "output_type": "display_data",
     "data": {
      "text/plain": [
       "<IPython.core.display.Javascript object>"
      ],
      "application/javascript": "\n            setTimeout(function() {\n                var nbb_cell_id = 8;\n                var nbb_unformatted_code = \"plot_acf(data['ret'])\\nplot_pacf(data['ret'])\\nplt.show()\";\n                var nbb_formatted_code = \"plot_acf(data[\\\"ret\\\"])\\nplot_pacf(data[\\\"ret\\\"])\\nplt.show()\";\n                var nbb_cells = Jupyter.notebook.get_cells();\n                for (var i = 0; i < nbb_cells.length; ++i) {\n                    if (nbb_cells[i].input_prompt_number == nbb_cell_id) {\n                        if (nbb_cells[i].get_text() == nbb_unformatted_code) {\n                             nbb_cells[i].set_text(nbb_formatted_code);\n                        }\n                        break;\n                    }\n                }\n            }, 500);\n            "
     },
     "metadata": {}
    }
   ],
   "metadata": {
    "colab": {
     "base_uri": "https://localhost:8080/",
     "height": 545
    },
    "id": "76D3s48GwwME",
    "outputId": "b2e593f0-9cb8-4066-80a5-eac3916fbab4"
   }
  },
  {
   "cell_type": "code",
   "execution_count": 9,
   "source": [
    "plot_acf(data[\"ret_sq\"])\n",
    "plot_pacf(data[\"ret_sq\"])\n",
    "plt.show()"
   ],
   "outputs": [
    {
     "output_type": "display_data",
     "data": {
      "text/plain": [
       "<Figure size 432x288 with 1 Axes>"
      ],
      "image/png": "[encoded data removed]"
     },
     "metadata": {
      "needs_background": "light"
     }
    },
    {
     "output_type": "display_data",
     "data": {
      "text/plain": [
       "<Figure size 432x288 with 1 Axes>"
      ],
      "image/png": "[encoded data removed]"
     },
     "metadata": {
      "needs_background": "light"
     }
    },
    {
     "output_type": "display_data",
     "data": {
      "text/plain": [
       "<IPython.core.display.Javascript object>"
      ],
      "application/javascript": "\n            setTimeout(function() {\n                var nbb_cell_id = 9;\n                var nbb_unformatted_code = \"plot_acf(data['ret_sq'])\\nplot_pacf(data['ret_sq'])\\nplt.show()\";\n                var nbb_formatted_code = \"plot_acf(data[\\\"ret_sq\\\"])\\nplot_pacf(data[\\\"ret_sq\\\"])\\nplt.show()\";\n                var nbb_cells = Jupyter.notebook.get_cells();\n                for (var i = 0; i < nbb_cells.length; ++i) {\n                    if (nbb_cells[i].input_prompt_number == nbb_cell_id) {\n                        if (nbb_cells[i].get_text() == nbb_unformatted_code) {\n                             nbb_cells[i].set_text(nbb_formatted_code);\n                        }\n                        break;\n                    }\n                }\n            }, 500);\n            "
     },
     "metadata": {}
    }
   ],
   "metadata": {
    "colab": {
     "base_uri": "https://localhost:8080/",
     "height": 545
    },
    "id": "MyyPCUD7w2xm",
    "outputId": "c420c81f-d5f6-48e4-d8be-d23dd2144fca"
   }
  },
  {
   "cell_type": "code",
   "execution_count": 10,
   "source": [
    "# But, returns and squared returns are predictable!!\n",
    "print(VarianceRatio(data[\"ret\"]))\n",
    "print(VarianceRatio(data[\"ret_sq\"]))"
   ],
   "outputs": [
    {
     "output_type": "stream",
     "name": "stdout",
     "text": [
      "     Variance-Ratio Test Results     \n",
      "=====================================\n",
      "Test Statistic                 -8.477\n",
      "P-value                         0.000\n",
      "Lags                                2\n",
      "-------------------------------------\n",
      "\n",
      "Computed with overlapping blocks (de-biased)\n",
      "     Variance-Ratio Test Results     \n",
      "=====================================\n",
      "Test Statistic                 -2.348\n",
      "P-value                         0.019\n",
      "Lags                                2\n",
      "-------------------------------------\n",
      "\n",
      "Computed with overlapping blocks (de-biased)\n"
     ]
    },
    {
     "output_type": "display_data",
     "data": {
      "text/plain": [
       "<IPython.core.display.Javascript object>"
      ],
      "application/javascript": "\n            setTimeout(function() {\n                var nbb_cell_id = 10;\n                var nbb_unformatted_code = \"# But, returns and squared returns are predictable!!\\nprint(VarianceRatio(data['ret'])) \\nprint(VarianceRatio(data['ret_sq']))\";\n                var nbb_formatted_code = \"# But, returns and squared returns are predictable!!\\nprint(VarianceRatio(data[\\\"ret\\\"]))\\nprint(VarianceRatio(data[\\\"ret_sq\\\"]))\";\n                var nbb_cells = Jupyter.notebook.get_cells();\n                for (var i = 0; i < nbb_cells.length; ++i) {\n                    if (nbb_cells[i].input_prompt_number == nbb_cell_id) {\n                        if (nbb_cells[i].get_text() == nbb_unformatted_code) {\n                             nbb_cells[i].set_text(nbb_formatted_code);\n                        }\n                        break;\n                    }\n                }\n            }, 500);\n            "
     },
     "metadata": {}
    }
   ],
   "metadata": {
    "colab": {
     "base_uri": "https://localhost:8080/"
    },
    "id": "RwEWDchXwPE-",
    "outputId": "b9fca031-c472-4cfe-e20a-7d420764f013"
   }
  },
  {
   "cell_type": "code",
   "execution_count": 11,
   "source": [
    "returns_sq = 10000 * data[\"ret_sq\"]"
   ],
   "outputs": [
    {
     "output_type": "display_data",
     "data": {
      "text/plain": [
       "<IPython.core.display.Javascript object>"
      ],
      "application/javascript": "\n            setTimeout(function() {\n                var nbb_cell_id = 11;\n                var nbb_unformatted_code = \"returns_sq = 10000 * data['ret_sq']\";\n                var nbb_formatted_code = \"returns_sq = 10000 * data[\\\"ret_sq\\\"]\";\n                var nbb_cells = Jupyter.notebook.get_cells();\n                for (var i = 0; i < nbb_cells.length; ++i) {\n                    if (nbb_cells[i].input_prompt_number == nbb_cell_id) {\n                        if (nbb_cells[i].get_text() == nbb_unformatted_code) {\n                             nbb_cells[i].set_text(nbb_formatted_code);\n                        }\n                        break;\n                    }\n                }\n            }, 500);\n            "
     },
     "metadata": {}
    }
   ],
   "metadata": {
    "id": "AsiQoHzRRiKy"
   }
  },
  {
   "cell_type": "code",
   "execution_count": 12,
   "source": [
    "# AR - GARCH Model\n",
    "ar_garch = ARX(returns_sq, lags=[1, 5, 22])\n",
    "res_ar_garch = ar_garch.fit()\n",
    "ar_garch.volatility = GARCH(p=1, q=1)\n",
    "res_ar_garch = ar_garch.fit(update_freq=0, disp=\"off\")\n",
    "\n",
    "print(res_ar_garch.summary())\n",
    "res_ar_garch.plot()\n",
    "plt.show()"
   ],
   "outputs": [
    {
     "output_type": "stream",
     "name": "stdout",
     "text": [
      "                           AR - GARCH Model Results                           \n",
      "==============================================================================\n",
      "Dep. Variable:                 ret_sq   R-squared:                      -0.247\n",
      "Mean Model:                        AR   Adj. R-squared:                 -0.251\n",
      "Vol Model:                      GARCH   Log-Likelihood:               -3163.47\n",
      "Distribution:                  Normal   AIC:                           6340.93\n",
      "Method:            Maximum Likelihood   BIC:                           6374.64\n",
      "                                        No. Observations:                  911\n",
      "Date:                Wed, Sep 01 2021   Df Residuals:                      907\n",
      "Time:                        08:56:53   Df Model:                            4\n",
      "                                  Mean Model                                 \n",
      "=============================================================================\n",
      "                 coef    std err          t      P>|t|       95.0% Conf. Int.\n",
      "-----------------------------------------------------------------------------\n",
      "Const          1.3196      0.473      2.792  5.241e-03      [  0.393,  2.246]\n",
      "ret_sq[1]      0.5782  9.549e-02      6.055  1.408e-09      [  0.391,  0.765]\n",
      "ret_sq[5]  8.9882e-03  4.519e-02      0.199      0.842 [-7.959e-02,9.757e-02]\n",
      "ret_sq[22]     0.2517      0.123      2.039  4.142e-02    [9.792e-03,  0.494]\n",
      "                            Volatility Model                            \n",
      "========================================================================\n",
      "                 coef    std err          t      P>|t|  95.0% Conf. Int.\n",
      "------------------------------------------------------------------------\n",
      "omega         26.7924      6.735      3.978  6.945e-05 [ 13.592, 39.993]\n",
      "alpha[1]       1.0000      0.441      2.266  2.344e-02 [  0.135,  1.865]\n",
      "beta[1]    4.2378e-11  5.105e-02  8.300e-10      1.000 [ -0.100,  0.100]\n",
      "========================================================================\n",
      "\n",
      "Covariance estimator: robust\n"
     ]
    },
    {
     "output_type": "display_data",
     "data": {
      "text/plain": [
       "<Figure size 432x288 with 2 Axes>"
      ],
      "image/png": "[encoded data removed]"
     },
     "metadata": {
      "needs_background": "light"
     }
    },
    {
     "output_type": "display_data",
     "data": {
      "text/plain": [
       "<IPython.core.display.Javascript object>"
      ],
      "application/javascript": "\n            setTimeout(function() {\n                var nbb_cell_id = 12;\n                var nbb_unformatted_code = \"# AR - GARCH Model\\nar_garch = ARX(returns_sq, lags=[1,5,22])\\nres_ar_garch = ar_garch.fit()\\nar_garch.volatility = GARCH(p=1, q=1)\\nres_ar_garch = ar_garch.fit(update_freq=0, disp=\\\"off\\\")\\n\\nprint(res_ar_garch.summary())\\nres_ar_garch.plot()\\nplt.show()\";\n                var nbb_formatted_code = \"# AR - GARCH Model\\nar_garch = ARX(returns_sq, lags=[1, 5, 22])\\nres_ar_garch = ar_garch.fit()\\nar_garch.volatility = GARCH(p=1, q=1)\\nres_ar_garch = ar_garch.fit(update_freq=0, disp=\\\"off\\\")\\n\\nprint(res_ar_garch.summary())\\nres_ar_garch.plot()\\nplt.show()\";\n                var nbb_cells = Jupyter.notebook.get_cells();\n                for (var i = 0; i < nbb_cells.length; ++i) {\n                    if (nbb_cells[i].input_prompt_number == nbb_cell_id) {\n                        if (nbb_cells[i].get_text() == nbb_unformatted_code) {\n                             nbb_cells[i].set_text(nbb_formatted_code);\n                        }\n                        break;\n                    }\n                }\n            }, 500);\n            "
     },
     "metadata": {}
    }
   ],
   "metadata": {
    "colab": {
     "base_uri": "https://localhost:8080/",
     "height": 757
    },
    "id": "03h0jAXD16JM",
    "outputId": "1f760abf-7aea-46e8-f7b3-d2ae58082f1a"
   }
  },
  {
   "cell_type": "code",
   "execution_count": 13,
   "source": [
    "# GRJ-GARCH model\n",
    "grja = arch_model(returns_sq, p=1, q=1, o=1, vol=\"GARCH\", dist=\"t\")\n",
    "res_grja = grja.fit(disp=\"off\")\n",
    "\n",
    "print(res_grja.summary())\n",
    "res_grja.plot()\n",
    "plt.show()"
   ],
   "outputs": [
    {
     "output_type": "stream",
     "name": "stdout",
     "text": [
      "                      Constant Mean - GJR-GARCH Model Results                       \n",
      "====================================================================================\n",
      "Dep. Variable:                       ret_sq   R-squared:                       0.000\n",
      "Mean Model:                   Constant Mean   Adj. R-squared:                  0.000\n",
      "Vol Model:                        GJR-GARCH   Log-Likelihood:               -2543.58\n",
      "Distribution:      Standardized Student's t   AIC:                           5099.17\n",
      "Method:                  Maximum Likelihood   BIC:                           5128.20\n",
      "                                              No. Observations:                  933\n",
      "Date:                      Wed, Sep 01 2021   Df Residuals:                      932\n",
      "Time:                              08:56:54   Df Model:                            1\n",
      "                               Mean Model                               \n",
      "========================================================================\n",
      "                 coef    std err          t      P>|t|  95.0% Conf. Int.\n",
      "------------------------------------------------------------------------\n",
      "mu             1.3939      0.139     10.052  8.991e-24 [  1.122,  1.666]\n",
      "                             Volatility Model                             \n",
      "==========================================================================\n",
      "                 coef    std err          t      P>|t|    95.0% Conf. Int.\n",
      "--------------------------------------------------------------------------\n",
      "omega         13.0962     51.621      0.254      0.800 [-88.078,1.143e+02]\n",
      "alpha[1]       0.1246      0.439      0.284      0.776   [ -0.736,  0.985]\n",
      "gamma[1]       0.0101      6.649  1.523e-03      0.999   [-13.021, 13.041]\n",
      "beta[1]        0.8703  3.928e-02     22.156 9.077e-109   [  0.793,  0.947]\n",
      "                              Distribution                              \n",
      "========================================================================\n",
      "                 coef    std err          t      P>|t|  95.0% Conf. Int.\n",
      "------------------------------------------------------------------------\n",
      "nu             2.0500      0.181     11.316  1.089e-29 [  1.695,  2.405]\n",
      "========================================================================\n",
      "\n",
      "Covariance estimator: robust\n"
     ]
    },
    {
     "output_type": "display_data",
     "data": {
      "text/plain": [
       "<Figure size 432x288 with 2 Axes>"
      ],
      "image/png": "[encoded data removed]"
     },
     "metadata": {
      "needs_background": "light"
     }
    },
    {
     "output_type": "display_data",
     "data": {
      "text/plain": [
       "<IPython.core.display.Javascript object>"
      ],
      "application/javascript": "\n            setTimeout(function() {\n                var nbb_cell_id = 13;\n                var nbb_unformatted_code = \"# GRJ-GARCH model\\ngrja = arch_model(returns_sq, p = 1, q = 1, o = 1, vol = 'GARCH', dist = 't')\\nres_grja = grja.fit(disp = 'off')\\n\\nprint(res_grja.summary())\\nres_grja.plot()\\nplt.show()\";\n                var nbb_formatted_code = \"# GRJ-GARCH model\\ngrja = arch_model(returns_sq, p=1, q=1, o=1, vol=\\\"GARCH\\\", dist=\\\"t\\\")\\nres_grja = grja.fit(disp=\\\"off\\\")\\n\\nprint(res_grja.summary())\\nres_grja.plot()\\nplt.show()\";\n                var nbb_cells = Jupyter.notebook.get_cells();\n                for (var i = 0; i < nbb_cells.length; ++i) {\n                    if (nbb_cells[i].input_prompt_number == nbb_cell_id) {\n                        if (nbb_cells[i].get_text() == nbb_unformatted_code) {\n                             nbb_cells[i].set_text(nbb_formatted_code);\n                        }\n                        break;\n                    }\n                }\n            }, 500);\n            "
     },
     "metadata": {}
    }
   ],
   "metadata": {
    "colab": {
     "base_uri": "https://localhost:8080/",
     "height": 808
    },
    "id": "j8itzjgbAeu_",
    "outputId": "01e17e46-5bf3-40a6-a52c-601e8f9c6875"
   }
  },
  {
   "cell_type": "code",
   "execution_count": 14,
   "source": [
    "# E-GARCH model\n",
    "egarch = arch_model(returns_sq, p=1, q=1, o=1, vol=\"EGARCH\", dist=\"t\")\n",
    "res_egarch = egarch.fit(disp=\"off\")\n",
    "\n",
    "print(res_egarch.summary())\n",
    "res_egarch.plot()\n",
    "plt.show()"
   ],
   "outputs": [
    {
     "output_type": "stream",
     "name": "stdout",
     "text": [
      "                        Constant Mean - EGARCH Model Results                        \n",
      "====================================================================================\n",
      "Dep. Variable:                       ret_sq   R-squared:                       0.000\n",
      "Mean Model:                   Constant Mean   Adj. R-squared:                  0.000\n",
      "Vol Model:                           EGARCH   Log-Likelihood:               -2544.89\n",
      "Distribution:      Standardized Student's t   AIC:                           5101.79\n",
      "Method:                  Maximum Likelihood   BIC:                           5130.82\n",
      "                                              No. Observations:                  933\n",
      "Date:                      Wed, Sep 01 2021   Df Residuals:                      932\n",
      "Time:                              08:56:55   Df Model:                            1\n",
      "                               Mean Model                               \n",
      "========================================================================\n",
      "                 coef    std err          t      P>|t|  95.0% Conf. Int.\n",
      "------------------------------------------------------------------------\n",
      "mu             1.3891      0.115     12.039  2.221e-33 [  1.163,  1.615]\n",
      "                              Volatility Model                             \n",
      "===========================================================================\n",
      "                 coef    std err          t      P>|t|     95.0% Conf. Int.\n",
      "---------------------------------------------------------------------------\n",
      "omega          0.6077      0.357      1.702  8.883e-02 [-9.227e-02,  1.308]\n",
      "alpha[1]       0.5116      0.487      1.051      0.293    [ -0.443,  1.466]\n",
      "gamma[1]      -0.2279      0.395     -0.576      0.564    [ -1.003,  0.547]\n",
      "beta[1]        0.9403  3.444e-02     27.299 4.358e-164    [  0.873,  1.008]\n",
      "                              Distribution                              \n",
      "========================================================================\n",
      "                 coef    std err          t      P>|t|  95.0% Conf. Int.\n",
      "------------------------------------------------------------------------\n",
      "nu             2.0500  4.511e-02     45.448      0.000 [  1.962,  2.138]\n",
      "========================================================================\n",
      "\n",
      "Covariance estimator: robust\n"
     ]
    },
    {
     "output_type": "display_data",
     "data": {
      "text/plain": [
       "<Figure size 432x288 with 2 Axes>"
      ],
      "image/png": "[encoded data removed]"
     },
     "metadata": {
      "needs_background": "light"
     }
    },
    {
     "output_type": "display_data",
     "data": {
      "text/plain": [
       "<IPython.core.display.Javascript object>"
      ],
      "application/javascript": "\n            setTimeout(function() {\n                var nbb_cell_id = 14;\n                var nbb_unformatted_code = \"# E-GARCH model\\negarch = arch_model(returns_sq, p = 1, q = 1, o = 1, vol = 'EGARCH', dist = 't')\\nres_egarch = egarch.fit(disp = 'off')\\n\\nprint(res_egarch.summary())\\nres_egarch.plot()\\nplt.show()\";\n                var nbb_formatted_code = \"# E-GARCH model\\negarch = arch_model(returns_sq, p=1, q=1, o=1, vol=\\\"EGARCH\\\", dist=\\\"t\\\")\\nres_egarch = egarch.fit(disp=\\\"off\\\")\\n\\nprint(res_egarch.summary())\\nres_egarch.plot()\\nplt.show()\";\n                var nbb_cells = Jupyter.notebook.get_cells();\n                for (var i = 0; i < nbb_cells.length; ++i) {\n                    if (nbb_cells[i].input_prompt_number == nbb_cell_id) {\n                        if (nbb_cells[i].get_text() == nbb_unformatted_code) {\n                             nbb_cells[i].set_text(nbb_formatted_code);\n                        }\n                        break;\n                    }\n                }\n            }, 500);\n            "
     },
     "metadata": {}
    }
   ],
   "metadata": {
    "colab": {
     "base_uri": "https://localhost:8080/",
     "height": 808
    },
    "id": "uUvjwd2iBm2R",
    "outputId": "a9ee051f-c704-4bde-8b5c-7d64a154506e"
   }
  },
  {
   "cell_type": "code",
   "execution_count": 15,
   "source": [
    "plt.figure(figsize=(15, 8))\n",
    "plt.plot(returns_sq, color=\"grey\", alpha=0.4, label=\"Price Returns\")\n",
    "plt.plot(res_ar_garch.conditional_volatility, color=\"blue\", label=\"AR-GARCH Volatility\")\n",
    "plt.plot(res_grja.conditional_volatility, color=\"red\", label=\"GRJ-GARCH Volatility\")\n",
    "plt.plot(res_egarch.conditional_volatility, color=\"green\", label=\"E-GARCH Volatility\")\n",
    "plt.legend(loc=\"upper right\")\n",
    "plt.show()"
   ],
   "outputs": [
    {
     "output_type": "display_data",
     "data": {
      "text/plain": [
       "<Figure size 1080x576 with 1 Axes>"
      ],
      "image/png": "[encoded data removed]"
     },
     "metadata": {
      "needs_background": "light"
     }
    },
    {
     "output_type": "display_data",
     "data": {
      "text/plain": [
       "<IPython.core.display.Javascript object>"
      ],
      "application/javascript": "\n            setTimeout(function() {\n                var nbb_cell_id = 15;\n                var nbb_unformatted_code = \"plt.figure(figsize=(15,8))\\nplt.plot(returns_sq, color = 'grey', alpha = 0.4, label = 'Price Returns')\\nplt.plot(res_ar_garch.conditional_volatility, color = 'blue', label = 'AR-GARCH Volatility')\\nplt.plot(res_grja.conditional_volatility, color = 'red', label = 'GRJ-GARCH Volatility')\\nplt.plot(res_egarch.conditional_volatility, color = 'green', label = 'E-GARCH Volatility')\\nplt.legend(loc = 'upper right')\\nplt.show()\";\n                var nbb_formatted_code = \"plt.figure(figsize=(15, 8))\\nplt.plot(returns_sq, color=\\\"grey\\\", alpha=0.4, label=\\\"Price Returns\\\")\\nplt.plot(res_ar_garch.conditional_volatility, color=\\\"blue\\\", label=\\\"AR-GARCH Volatility\\\")\\nplt.plot(res_grja.conditional_volatility, color=\\\"red\\\", label=\\\"GRJ-GARCH Volatility\\\")\\nplt.plot(res_egarch.conditional_volatility, color=\\\"green\\\", label=\\\"E-GARCH Volatility\\\")\\nplt.legend(loc=\\\"upper right\\\")\\nplt.show()\";\n                var nbb_cells = Jupyter.notebook.get_cells();\n                for (var i = 0; i < nbb_cells.length; ++i) {\n                    if (nbb_cells[i].input_prompt_number == nbb_cell_id) {\n                        if (nbb_cells[i].get_text() == nbb_unformatted_code) {\n                             nbb_cells[i].set_text(nbb_formatted_code);\n                        }\n                        break;\n                    }\n                }\n            }, 500);\n            "
     },
     "metadata": {}
    }
   ],
   "metadata": {
    "colab": {
     "base_uri": "https://localhost:8080/",
     "height": 483
    },
    "id": "QO87Y9VG9LsD",
    "outputId": "3e4b9a5e-f94c-4c88-ccd9-8ed6ad22b806"
   }
  },
  {
   "cell_type": "code",
   "execution_count": 16,
   "source": [
    "print(f\"AR-GARCH BIC: {res_ar_garch.bic}\")\n",
    "print(f\"GJR-GARCH BIC: {res_grja.bic}\")\n",
    "print(f\"EGARCH BIC: {res_egarch.bic}\")"
   ],
   "outputs": [
    {
     "output_type": "stream",
     "name": "stdout",
     "text": [
      "AR-GARCH BIC: 6374.635526832367\n",
      "GJR-GARCH BIC: 5128.196429423965\n",
      "EGARCH BIC: 5130.818193833211\n"
     ]
    },
    {
     "output_type": "display_data",
     "data": {
      "text/plain": [
       "<IPython.core.display.Javascript object>"
      ],
      "application/javascript": "\n            setTimeout(function() {\n                var nbb_cell_id = 16;\n                var nbb_unformatted_code = \"print(f'AR-GARCH BIC: {res_ar_garch.bic}')\\nprint(f'GJR-GARCH BIC: {res_grja.bic}')\\nprint(f'EGARCH BIC: {res_egarch.bic}')\";\n                var nbb_formatted_code = \"print(f\\\"AR-GARCH BIC: {res_ar_garch.bic}\\\")\\nprint(f\\\"GJR-GARCH BIC: {res_grja.bic}\\\")\\nprint(f\\\"EGARCH BIC: {res_egarch.bic}\\\")\";\n                var nbb_cells = Jupyter.notebook.get_cells();\n                for (var i = 0; i < nbb_cells.length; ++i) {\n                    if (nbb_cells[i].input_prompt_number == nbb_cell_id) {\n                        if (nbb_cells[i].get_text() == nbb_unformatted_code) {\n                             nbb_cells[i].set_text(nbb_formatted_code);\n                        }\n                        break;\n                    }\n                }\n            }, 500);\n            "
     },
     "metadata": {}
    }
   ],
   "metadata": {
    "colab": {
     "base_uri": "https://localhost:8080/"
    },
    "id": "cHJcN0q_CUOv",
    "outputId": "09391af6-7f53-4a60-91ad-dc757cc7a7db"
   }
  },
  {
   "cell_type": "code",
   "execution_count": 17,
   "source": [
    "# Forecasting\n",
    "# Rolling window\n",
    "index = returns_sq.index\n",
    "start_loc = 0\n",
    "end_loc = np.where(index >= \"2020-12-31\")[0].min()\n",
    "forecasts = {}\n",
    "for i in tqdm(range(len(index) - end_loc + 1)):\n",
    "    res = grja.fit(first_obs=i, last_obs=i + end_loc, disp=\"off\")\n",
    "    temp = res.forecast(horizon=5, reindex=False).variance\n",
    "    fcast = temp.iloc[0]\n",
    "    forecasts[fcast.name] = fcast\n",
    "\n",
    "res_rolling = pd.DataFrame(forecasts).T\n",
    "\n",
    "# Recursive Rolling Window\n",
    "forecasts = {}\n",
    "for i in tqdm(range(len(index) - end_loc + 1)):\n",
    "    res = grja.fit(last_obs=i + end_loc, disp=\"off\")\n",
    "    temp = res.forecast(horizon=5, reindex=False).variance\n",
    "    fcast = temp.iloc[0]\n",
    "    forecasts[fcast.name] = fcast\n",
    "\n",
    "res_rec = pd.DataFrame(forecasts).T"
   ],
   "outputs": [
    {
     "output_type": "display_data",
     "data": {
      "text/plain": [
       "  0%|          | 0/164 [00:00<?, ?it/s]"
      ],
      "application/vnd.jupyter.widget-view+json": {
       "model_id": "b83464642e53447992941e2b8858efd7",
       "version_major": 2,
       "version_minor": 0
      }
     },
     "metadata": {}
    },
    {
     "output_type": "display_data",
     "data": {
      "text/plain": [
       "  0%|          | 0/164 [00:00<?, ?it/s]"
      ],
      "application/vnd.jupyter.widget-view+json": {
       "model_id": "751939288e0143ba80f0ba24e7b27fa4",
       "version_major": 2,
       "version_minor": 0
      }
     },
     "metadata": {}
    },
    {
     "output_type": "display_data",
     "data": {
      "text/plain": [
       "<IPython.core.display.Javascript object>"
      ],
      "application/javascript": "\n            setTimeout(function() {\n                var nbb_cell_id = 17;\n                var nbb_unformatted_code = \"# Forecasting\\n# Rolling window\\nindex = returns_sq.index\\nstart_loc = 0\\nend_loc = np.where(index >= \\\"2020-12-31\\\")[0].min()\\nforecasts = {}\\nfor i in tqdm(range(len(index)-end_loc+1)):\\n    res = grja.fit(first_obs=i, last_obs=i + end_loc, disp=\\\"off\\\")\\n    temp = res.forecast(horizon=5, reindex=False).variance\\n    fcast = temp.iloc[0]\\n    forecasts[fcast.name] = fcast\\n\\nres_rolling = pd.DataFrame(forecasts).T\\n\\n# Recursive Rolling Window\\nforecasts = {}\\nfor i in tqdm(range(len(index)-end_loc+1)):\\n    res = grja.fit(last_obs=i + end_loc, disp=\\\"off\\\")\\n    temp = res.forecast(horizon=5, reindex=False).variance\\n    fcast = temp.iloc[0]\\n    forecasts[fcast.name] = fcast\\n\\nres_rec = pd.DataFrame(forecasts).T\";\n                var nbb_formatted_code = \"# Forecasting\\n# Rolling window\\nindex = returns_sq.index\\nstart_loc = 0\\nend_loc = np.where(index >= \\\"2020-12-31\\\")[0].min()\\nforecasts = {}\\nfor i in tqdm(range(len(index) - end_loc + 1)):\\n    res = grja.fit(first_obs=i, last_obs=i + end_loc, disp=\\\"off\\\")\\n    temp = res.forecast(horizon=5, reindex=False).variance\\n    fcast = temp.iloc[0]\\n    forecasts[fcast.name] = fcast\\n\\nres_rolling = pd.DataFrame(forecasts).T\\n\\n# Recursive Rolling Window\\nforecasts = {}\\nfor i in tqdm(range(len(index) - end_loc + 1)):\\n    res = grja.fit(last_obs=i + end_loc, disp=\\\"off\\\")\\n    temp = res.forecast(horizon=5, reindex=False).variance\\n    fcast = temp.iloc[0]\\n    forecasts[fcast.name] = fcast\\n\\nres_rec = pd.DataFrame(forecasts).T\";\n                var nbb_cells = Jupyter.notebook.get_cells();\n                for (var i = 0; i < nbb_cells.length; ++i) {\n                    if (nbb_cells[i].input_prompt_number == nbb_cell_id) {\n                        if (nbb_cells[i].get_text() == nbb_unformatted_code) {\n                             nbb_cells[i].set_text(nbb_formatted_code);\n                        }\n                        break;\n                    }\n                }\n            }, 500);\n            "
     },
     "metadata": {}
    }
   ],
   "metadata": {
    "colab": {
     "base_uri": "https://localhost:8080/",
     "height": 81,
     "referenced_widgets": [
      "5fd4c0ced03e4dc2a64238a7503e942c",
      "8c656e5c885a43fa9005defb1d90ed27",
      "330d8452c3fb43cb8f783c1cd7f56eed",
      "0a28f281681343d08159e2f7d36f2d7c",
      "12571e4becb04e22a29cdc62d299acec",
      "d0b5c81980224f5482c018ea29aa6f2c",
      "dea8e52f41c9452ea0012cfe8dcf672f",
      "f82743d3b3b14da1a878035783ce88c9",
      "40fb43382ac44610a53231d1294eee6c",
      "37a0f50742434f42bdb6b63eeea2f2f2",
      "686e4eb0a57d4de28979cffff139a240",
      "26f6d21e84c9489a95e19ae8a8076217",
      "e8ca5b46c86f41709ee100eb1ead7dac",
      "4a4e2f43d2c849e8a988ec27af4dbe83",
      "91312b8f71fb4036b668401aafcceb6e",
      "08d4138e00734370977c65bb801b13ca",
      "27d04f51e6294774bab4787a7e287d06",
      "67dce49c9e0148fabe61b1b35d1d9164",
      "aff6284e0c8a4f0c84a74485a11ce9f1",
      "2a3c533d301b408bab07717de4be7894",
      "86914aa38ed3485fa4352646f7651a30",
      "2e21740c54af488ba7db7a353a386cb7"
     ]
    },
    "id": "uxVf_1O47Ytl",
    "outputId": "d8b8d3b8-7094-45a7-c18b-b484892cf3ae"
   }
  },
  {
   "cell_type": "code",
   "execution_count": 18,
   "source": [
    "plt.figure(figsize=(15, 8))\n",
    "plt.plot(returns_sq.iloc[end_loc - 1 :], color=\"grey\", alpha=0.4, label=\"Price Returns\")\n",
    "plt.plot(res_rec[\"h.1\"], color=\"blue\", label=\"Recursive window forecasting\")\n",
    "plt.plot(res_rolling[\"h.1\"], color=\"red\", label=\"Rolling window forecasting\")\n",
    "plt.legend(loc=\"upper right\")\n",
    "plt.show()"
   ],
   "outputs": [
    {
     "output_type": "display_data",
     "data": {
      "text/plain": [
       "<Figure size 1080x576 with 1 Axes>"
      ],
      "image/png": "[encoded data removed]"
     },
     "metadata": {
      "needs_background": "light"
     }
    },
    {
     "output_type": "display_data",
     "data": {
      "text/plain": [
       "<IPython.core.display.Javascript object>"
      ],
      "application/javascript": "\n            setTimeout(function() {\n                var nbb_cell_id = 18;\n                var nbb_unformatted_code = \"plt.figure(figsize=(15,8))\\nplt.plot(returns_sq.iloc[end_loc-1:], color = 'grey', alpha = 0.4, label = 'Price Returns')\\nplt.plot(res_rec['h.1'], color = 'blue', label = 'Recursive window forecasting')\\nplt.plot(res_rolling['h.1'], color = 'red', label = 'Rolling window forecasting')\\nplt.legend(loc = 'upper right')\\nplt.show()\";\n                var nbb_formatted_code = \"plt.figure(figsize=(15, 8))\\nplt.plot(returns_sq.iloc[end_loc - 1 :], color=\\\"grey\\\", alpha=0.4, label=\\\"Price Returns\\\")\\nplt.plot(res_rec[\\\"h.1\\\"], color=\\\"blue\\\", label=\\\"Recursive window forecasting\\\")\\nplt.plot(res_rolling[\\\"h.1\\\"], color=\\\"red\\\", label=\\\"Rolling window forecasting\\\")\\nplt.legend(loc=\\\"upper right\\\")\\nplt.show()\";\n                var nbb_cells = Jupyter.notebook.get_cells();\n                for (var i = 0; i < nbb_cells.length; ++i) {\n                    if (nbb_cells[i].input_prompt_number == nbb_cell_id) {\n                        if (nbb_cells[i].get_text() == nbb_unformatted_code) {\n                             nbb_cells[i].set_text(nbb_formatted_code);\n                        }\n                        break;\n                    }\n                }\n            }, 500);\n            "
     },
     "metadata": {}
    }
   ],
   "metadata": {
    "colab": {
     "base_uri": "https://localhost:8080/",
     "height": 483
    },
    "id": "b8PrYf4aHAOf",
    "outputId": "cc46a62b-5e00-4b0f-d61f-daff5d75823c"
   }
  }
 ],
 "metadata": {
  "colab": {
   "authorship_tag": "ABX9TyMma4jnThF/6EbDLSbkoI1c",
   "collapsed_sections": [],
   "include_colab_link": true,
   "name": "06_ARX_and_ARCH_models_volalitility_prediction.ipynb",
   "provenance": []
  },
  "kernelspec": {
   "display_name": "Python 3 (ipykernel)",
   "language": "python",
   "name": "python3"
  },
  "language_info": {
   "codemirror_mode": {
    "name": "ipython",
    "version": 3
   },
   "file_extension": ".py",
   "mimetype": "text/x-python",
   "name": "python",
   "nbconvert_exporter": "python",
   "pygments_lexer": "ipython3",
   "version": "3.9.6"
  },
  "widgets": {
   "application/vnd.jupyter.widget-state+json": {
    "08d4138e00734370977c65bb801b13ca": {
     "model_module": "@jupyter-widgets/controls",
     "model_module_version": "1.5.0",
     "model_name": "HTMLModel",
     "state": {
      "_dom_classes": [],
      "_model_module": "@jupyter-widgets/controls",
      "_model_module_version": "1.5.0",
      "_model_name": "HTMLModel",
      "_view_count": null,
      "_view_module": "@jupyter-widgets/controls",
      "_view_module_version": "1.5.0",
      "_view_name": "HTMLView",
      "description": "",
      "description_tooltip": null,
      "layout": "IPY_MODEL_2e21740c54af488ba7db7a353a386cb7",
      "placeholder": "​",
      "style": "IPY_MODEL_86914aa38ed3485fa4352646f7651a30",
      "value": " 164/164 [00:19&lt;00:00,  8.16it/s]"
     }
    },
    "0a28f281681343d08159e2f7d36f2d7c": {
     "model_module": "@jupyter-widgets/controls",
     "model_module_version": "1.5.0",
     "model_name": "FloatProgressModel",
     "state": {
      "_dom_classes": [],
      "_model_module": "@jupyter-widgets/controls",
      "_model_module_version": "1.5.0",
      "_model_name": "FloatProgressModel",
      "_view_count": null,
      "_view_module": "@jupyter-widgets/controls",
      "_view_module_version": "1.5.0",
      "_view_name": "ProgressView",
      "bar_style": "success",
      "description": "",
      "description_tooltip": null,
      "layout": "IPY_MODEL_40fb43382ac44610a53231d1294eee6c",
      "max": 164,
      "min": 0,
      "orientation": "horizontal",
      "style": "IPY_MODEL_f82743d3b3b14da1a878035783ce88c9",
      "value": 164
     }
    },
    "12571e4becb04e22a29cdc62d299acec": {
     "model_module": "@jupyter-widgets/controls",
     "model_module_version": "1.5.0",
     "model_name": "HTMLModel",
     "state": {
      "_dom_classes": [],
      "_model_module": "@jupyter-widgets/controls",
      "_model_module_version": "1.5.0",
      "_model_name": "HTMLModel",
      "_view_count": null,
      "_view_module": "@jupyter-widgets/controls",
      "_view_module_version": "1.5.0",
      "_view_name": "HTMLView",
      "description": "",
      "description_tooltip": null,
      "layout": "IPY_MODEL_686e4eb0a57d4de28979cffff139a240",
      "placeholder": "​",
      "style": "IPY_MODEL_37a0f50742434f42bdb6b63eeea2f2f2",
      "value": " 164/164 [00:16&lt;00:00,  9.42it/s]"
     }
    },
    "26f6d21e84c9489a95e19ae8a8076217": {
     "model_module": "@jupyter-widgets/controls",
     "model_module_version": "1.5.0",
     "model_name": "HBoxModel",
     "state": {
      "_dom_classes": [],
      "_model_module": "@jupyter-widgets/controls",
      "_model_module_version": "1.5.0",
      "_model_name": "HBoxModel",
      "_view_count": null,
      "_view_module": "@jupyter-widgets/controls",
      "_view_module_version": "1.5.0",
      "_view_name": "HBoxView",
      "box_style": "",
      "children": [
       "IPY_MODEL_4a4e2f43d2c849e8a988ec27af4dbe83",
       "IPY_MODEL_91312b8f71fb4036b668401aafcceb6e",
       "IPY_MODEL_08d4138e00734370977c65bb801b13ca"
      ],
      "layout": "IPY_MODEL_e8ca5b46c86f41709ee100eb1ead7dac"
     }
    },
    "27d04f51e6294774bab4787a7e287d06": {
     "model_module": "@jupyter-widgets/controls",
     "model_module_version": "1.5.0",
     "model_name": "DescriptionStyleModel",
     "state": {
      "_model_module": "@jupyter-widgets/controls",
      "_model_module_version": "1.5.0",
      "_model_name": "DescriptionStyleModel",
      "_view_count": null,
      "_view_module": "@jupyter-widgets/base",
      "_view_module_version": "1.2.0",
      "_view_name": "StyleView",
      "description_width": ""
     }
    },
    "2a3c533d301b408bab07717de4be7894": {
     "model_module": "@jupyter-widgets/base",
     "model_module_version": "1.2.0",
     "model_name": "LayoutModel",
     "state": {
      "_model_module": "@jupyter-widgets/base",
      "_model_module_version": "1.2.0",
      "_model_name": "LayoutModel",
      "_view_count": null,
      "_view_module": "@jupyter-widgets/base",
      "_view_module_version": "1.2.0",
      "_view_name": "LayoutView",
      "align_content": null,
      "align_items": null,
      "align_self": null,
      "border": null,
      "bottom": null,
      "display": null,
      "flex": null,
      "flex_flow": null,
      "grid_area": null,
      "grid_auto_columns": null,
      "grid_auto_flow": null,
      "grid_auto_rows": null,
      "grid_column": null,
      "grid_gap": null,
      "grid_row": null,
      "grid_template_areas": null,
      "grid_template_columns": null,
      "grid_template_rows": null,
      "height": null,
      "justify_content": null,
      "justify_items": null,
      "left": null,
      "margin": null,
      "max_height": null,
      "max_width": null,
      "min_height": null,
      "min_width": null,
      "object_fit": null,
      "object_position": null,
      "order": null,
      "overflow": null,
      "overflow_x": null,
      "overflow_y": null,
      "padding": null,
      "right": null,
      "top": null,
      "visibility": null,
      "width": null
     }
    },
    "2e21740c54af488ba7db7a353a386cb7": {
     "model_module": "@jupyter-widgets/base",
     "model_module_version": "1.2.0",
     "model_name": "LayoutModel",
     "state": {
      "_model_module": "@jupyter-widgets/base",
      "_model_module_version": "1.2.0",
      "_model_name": "LayoutModel",
      "_view_count": null,
      "_view_module": "@jupyter-widgets/base",
      "_view_module_version": "1.2.0",
      "_view_name": "LayoutView",
      "align_content": null,
      "align_items": null,
      "align_self": null,
      "border": null,
      "bottom": null,
      "display": null,
      "flex": null,
      "flex_flow": null,
      "grid_area": null,
      "grid_auto_columns": null,
      "grid_auto_flow": null,
      "grid_auto_rows": null,
      "grid_column": null,
      "grid_gap": null,
      "grid_row": null,
      "grid_template_areas": null,
      "grid_template_columns": null,
      "grid_template_rows": null,
      "height": null,
      "justify_content": null,
      "justify_items": null,
      "left": null,
      "margin": null,
      "max_height": null,
      "max_width": null,
      "min_height": null,
      "min_width": null,
      "object_fit": null,
      "object_position": null,
      "order": null,
      "overflow": null,
      "overflow_x": null,
      "overflow_y": null,
      "padding": null,
      "right": null,
      "top": null,
      "visibility": null,
      "width": null
     }
    },
    "330d8452c3fb43cb8f783c1cd7f56eed": {
     "model_module": "@jupyter-widgets/controls",
     "model_module_version": "1.5.0",
     "model_name": "HTMLModel",
     "state": {
      "_dom_classes": [],
      "_model_module": "@jupyter-widgets/controls",
      "_model_module_version": "1.5.0",
      "_model_name": "HTMLModel",
      "_view_count": null,
      "_view_module": "@jupyter-widgets/controls",
      "_view_module_version": "1.5.0",
      "_view_name": "HTMLView",
      "description": "",
      "description_tooltip": null,
      "layout": "IPY_MODEL_dea8e52f41c9452ea0012cfe8dcf672f",
      "placeholder": "​",
      "style": "IPY_MODEL_d0b5c81980224f5482c018ea29aa6f2c",
      "value": "100%"
     }
    },
    "37a0f50742434f42bdb6b63eeea2f2f2": {
     "model_module": "@jupyter-widgets/controls",
     "model_module_version": "1.5.0",
     "model_name": "DescriptionStyleModel",
     "state": {
      "_model_module": "@jupyter-widgets/controls",
      "_model_module_version": "1.5.0",
      "_model_name": "DescriptionStyleModel",
      "_view_count": null,
      "_view_module": "@jupyter-widgets/base",
      "_view_module_version": "1.2.0",
      "_view_name": "StyleView",
      "description_width": ""
     }
    },
    "40fb43382ac44610a53231d1294eee6c": {
     "model_module": "@jupyter-widgets/base",
     "model_module_version": "1.2.0",
     "model_name": "LayoutModel",
     "state": {
      "_model_module": "@jupyter-widgets/base",
      "_model_module_version": "1.2.0",
      "_model_name": "LayoutModel",
      "_view_count": null,
      "_view_module": "@jupyter-widgets/base",
      "_view_module_version": "1.2.0",
      "_view_name": "LayoutView",
      "align_content": null,
      "align_items": null,
      "align_self": null,
      "border": null,
      "bottom": null,
      "display": null,
      "flex": null,
      "flex_flow": null,
      "grid_area": null,
      "grid_auto_columns": null,
      "grid_auto_flow": null,
      "grid_auto_rows": null,
      "grid_column": null,
      "grid_gap": null,
      "grid_row": null,
      "grid_template_areas": null,
      "grid_template_columns": null,
      "grid_template_rows": null,
      "height": null,
      "justify_content": null,
      "justify_items": null,
      "left": null,
      "margin": null,
      "max_height": null,
      "max_width": null,
      "min_height": null,
      "min_width": null,
      "object_fit": null,
      "object_position": null,
      "order": null,
      "overflow": null,
      "overflow_x": null,
      "overflow_y": null,
      "padding": null,
      "right": null,
      "top": null,
      "visibility": null,
      "width": null
     }
    },
    "4a4e2f43d2c849e8a988ec27af4dbe83": {
     "model_module": "@jupyter-widgets/controls",
     "model_module_version": "1.5.0",
     "model_name": "HTMLModel",
     "state": {
      "_dom_classes": [],
      "_model_module": "@jupyter-widgets/controls",
      "_model_module_version": "1.5.0",
      "_model_name": "HTMLModel",
      "_view_count": null,
      "_view_module": "@jupyter-widgets/controls",
      "_view_module_version": "1.5.0",
      "_view_name": "HTMLView",
      "description": "",
      "description_tooltip": null,
      "layout": "IPY_MODEL_67dce49c9e0148fabe61b1b35d1d9164",
      "placeholder": "​",
      "style": "IPY_MODEL_27d04f51e6294774bab4787a7e287d06",
      "value": "100%"
     }
    },
    "5fd4c0ced03e4dc2a64238a7503e942c": {
     "model_module": "@jupyter-widgets/controls",
     "model_module_version": "1.5.0",
     "model_name": "HBoxModel",
     "state": {
      "_dom_classes": [],
      "_model_module": "@jupyter-widgets/controls",
      "_model_module_version": "1.5.0",
      "_model_name": "HBoxModel",
      "_view_count": null,
      "_view_module": "@jupyter-widgets/controls",
      "_view_module_version": "1.5.0",
      "_view_name": "HBoxView",
      "box_style": "",
      "children": [
       "IPY_MODEL_330d8452c3fb43cb8f783c1cd7f56eed",
       "IPY_MODEL_0a28f281681343d08159e2f7d36f2d7c",
       "IPY_MODEL_12571e4becb04e22a29cdc62d299acec"
      ],
      "layout": "IPY_MODEL_8c656e5c885a43fa9005defb1d90ed27"
     }
    },
    "67dce49c9e0148fabe61b1b35d1d9164": {
     "model_module": "@jupyter-widgets/base",
     "model_module_version": "1.2.0",
     "model_name": "LayoutModel",
     "state": {
      "_model_module": "@jupyter-widgets/base",
      "_model_module_version": "1.2.0",
      "_model_name": "LayoutModel",
      "_view_count": null,
      "_view_module": "@jupyter-widgets/base",
      "_view_module_version": "1.2.0",
      "_view_name": "LayoutView",
      "align_content": null,
      "align_items": null,
      "align_self": null,
      "border": null,
      "bottom": null,
      "display": null,
      "flex": null,
      "flex_flow": null,
      "grid_area": null,
      "grid_auto_columns": null,
      "grid_auto_flow": null,
      "grid_auto_rows": null,
      "grid_column": null,
      "grid_gap": null,
      "grid_row": null,
      "grid_template_areas": null,
      "grid_template_columns": null,
      "grid_template_rows": null,
      "height": null,
      "justify_content": null,
      "justify_items": null,
      "left": null,
      "margin": null,
      "max_height": null,
      "max_width": null,
      "min_height": null,
      "min_width": null,
      "object_fit": null,
      "object_position": null,
      "order": null,
      "overflow": null,
      "overflow_x": null,
      "overflow_y": null,
      "padding": null,
      "right": null,
      "top": null,
      "visibility": null,
      "width": null
     }
    },
    "686e4eb0a57d4de28979cffff139a240": {
     "model_module": "@jupyter-widgets/base",
     "model_module_version": "1.2.0",
     "model_name": "LayoutModel",
     "state": {
      "_model_module": "@jupyter-widgets/base",
      "_model_module_version": "1.2.0",
      "_model_name": "LayoutModel",
      "_view_count": null,
      "_view_module": "@jupyter-widgets/base",
      "_view_module_version": "1.2.0",
      "_view_name": "LayoutView",
      "align_content": null,
      "align_items": null,
      "align_self": null,
      "border": null,
      "bottom": null,
      "display": null,
      "flex": null,
      "flex_flow": null,
      "grid_area": null,
      "grid_auto_columns": null,
      "grid_auto_flow": null,
      "grid_auto_rows": null,
      "grid_column": null,
      "grid_gap": null,
      "grid_row": null,
      "grid_template_areas": null,
      "grid_template_columns": null,
      "grid_template_rows": null,
      "height": null,
      "justify_content": null,
      "justify_items": null,
      "left": null,
      "margin": null,
      "max_height": null,
      "max_width": null,
      "min_height": null,
      "min_width": null,
      "object_fit": null,
      "object_position": null,
      "order": null,
      "overflow": null,
      "overflow_x": null,
      "overflow_y": null,
      "padding": null,
      "right": null,
      "top": null,
      "visibility": null,
      "width": null
     }
    },
    "86914aa38ed3485fa4352646f7651a30": {
     "model_module": "@jupyter-widgets/controls",
     "model_module_version": "1.5.0",
     "model_name": "DescriptionStyleModel",
     "state": {
      "_model_module": "@jupyter-widgets/controls",
      "_model_module_version": "1.5.0",
      "_model_name": "DescriptionStyleModel",
      "_view_count": null,
      "_view_module": "@jupyter-widgets/base",
      "_view_module_version": "1.2.0",
      "_view_name": "StyleView",
      "description_width": ""
     }
    },
    "8c656e5c885a43fa9005defb1d90ed27": {
     "model_module": "@jupyter-widgets/base",
     "model_module_version": "1.2.0",
     "model_name": "LayoutModel",
     "state": {
      "_model_module": "@jupyter-widgets/base",
      "_model_module_version": "1.2.0",
      "_model_name": "LayoutModel",
      "_view_count": null,
      "_view_module": "@jupyter-widgets/base",
      "_view_module_version": "1.2.0",
      "_view_name": "LayoutView",
      "align_content": null,
      "align_items": null,
      "align_self": null,
      "border": null,
      "bottom": null,
      "display": null,
      "flex": null,
      "flex_flow": null,
      "grid_area": null,
      "grid_auto_columns": null,
      "grid_auto_flow": null,
      "grid_auto_rows": null,
      "grid_column": null,
      "grid_gap": null,
      "grid_row": null,
      "grid_template_areas": null,
      "grid_template_columns": null,
      "grid_template_rows": null,
      "height": null,
      "justify_content": null,
      "justify_items": null,
      "left": null,
      "margin": null,
      "max_height": null,
      "max_width": null,
      "min_height": null,
      "min_width": null,
      "object_fit": null,
      "object_position": null,
      "order": null,
      "overflow": null,
      "overflow_x": null,
      "overflow_y": null,
      "padding": null,
      "right": null,
      "top": null,
      "visibility": null,
      "width": null
     }
    },
    "91312b8f71fb4036b668401aafcceb6e": {
     "model_module": "@jupyter-widgets/controls",
     "model_module_version": "1.5.0",
     "model_name": "FloatProgressModel",
     "state": {
      "_dom_classes": [],
      "_model_module": "@jupyter-widgets/controls",
      "_model_module_version": "1.5.0",
      "_model_name": "FloatProgressModel",
      "_view_count": null,
      "_view_module": "@jupyter-widgets/controls",
      "_view_module_version": "1.5.0",
      "_view_name": "ProgressView",
      "bar_style": "success",
      "description": "",
      "description_tooltip": null,
      "layout": "IPY_MODEL_2a3c533d301b408bab07717de4be7894",
      "max": 164,
      "min": 0,
      "orientation": "horizontal",
      "style": "IPY_MODEL_aff6284e0c8a4f0c84a74485a11ce9f1",
      "value": 164
     }
    },
    "aff6284e0c8a4f0c84a74485a11ce9f1": {
     "model_module": "@jupyter-widgets/controls",
     "model_module_version": "1.5.0",
     "model_name": "ProgressStyleModel",
     "state": {
      "_model_module": "@jupyter-widgets/controls",
      "_model_module_version": "1.5.0",
      "_model_name": "ProgressStyleModel",
      "_view_count": null,
      "_view_module": "@jupyter-widgets/base",
      "_view_module_version": "1.2.0",
      "_view_name": "StyleView",
      "bar_color": null,
      "description_width": ""
     }
    },
    "d0b5c81980224f5482c018ea29aa6f2c": {
     "model_module": "@jupyter-widgets/controls",
     "model_module_version": "1.5.0",
     "model_name": "DescriptionStyleModel",
     "state": {
      "_model_module": "@jupyter-widgets/controls",
      "_model_module_version": "1.5.0",
      "_model_name": "DescriptionStyleModel",
      "_view_count": null,
      "_view_module": "@jupyter-widgets/base",
      "_view_module_version": "1.2.0",
      "_view_name": "StyleView",
      "description_width": ""
     }
    },
    "dea8e52f41c9452ea0012cfe8dcf672f": {
     "model_module": "@jupyter-widgets/base",
     "model_module_version": "1.2.0",
     "model_name": "LayoutModel",
     "state": {
      "_model_module": "@jupyter-widgets/base",
      "_model_module_version": "1.2.0",
      "_model_name": "LayoutModel",
      "_view_count": null,
      "_view_module": "@jupyter-widgets/base",
      "_view_module_version": "1.2.0",
      "_view_name": "LayoutView",
      "align_content": null,
      "align_items": null,
      "align_self": null,
      "border": null,
      "bottom": null,
      "display": null,
      "flex": null,
      "flex_flow": null,
      "grid_area": null,
      "grid_auto_columns": null,
      "grid_auto_flow": null,
      "grid_auto_rows": null,
      "grid_column": null,
      "grid_gap": null,
      "grid_row": null,
      "grid_template_areas": null,
      "grid_template_columns": null,
      "grid_template_rows": null,
      "height": null,
      "justify_content": null,
      "justify_items": null,
      "left": null,
      "margin": null,
      "max_height": null,
      "max_width": null,
      "min_height": null,
      "min_width": null,
      "object_fit": null,
      "object_position": null,
      "order": null,
      "overflow": null,
      "overflow_x": null,
      "overflow_y": null,
      "padding": null,
      "right": null,
      "top": null,
      "visibility": null,
      "width": null
     }
    },
    "e8ca5b46c86f41709ee100eb1ead7dac": {
     "model_module": "@jupyter-widgets/base",
     "model_module_version": "1.2.0",
     "model_name": "LayoutModel",
     "state": {
      "_model_module": "@jupyter-widgets/base",
      "_model_module_version": "1.2.0",
      "_model_name": "LayoutModel",
      "_view_count": null,
      "_view_module": "@jupyter-widgets/base",
      "_view_module_version": "1.2.0",
      "_view_name": "LayoutView",
      "align_content": null,
      "align_items": null,
      "align_self": null,
      "border": null,
      "bottom": null,
      "display": null,
      "flex": null,
      "flex_flow": null,
      "grid_area": null,
      "grid_auto_columns": null,
      "grid_auto_flow": null,
      "grid_auto_rows": null,
      "grid_column": null,
      "grid_gap": null,
      "grid_row": null,
      "grid_template_areas": null,
      "grid_template_columns": null,
      "grid_template_rows": null,
      "height": null,
      "justify_content": null,
      "justify_items": null,
      "left": null,
      "margin": null,
      "max_height": null,
      "max_width": null,
      "min_height": null,
      "min_width": null,
      "object_fit": null,
      "object_position": null,
      "order": null,
      "overflow": null,
      "overflow_x": null,
      "overflow_y": null,
      "padding": null,
      "right": null,
      "top": null,
      "visibility": null,
      "width": null
     }
    },
    "f82743d3b3b14da1a878035783ce88c9": {
     "model_module": "@jupyter-widgets/controls",
     "model_module_version": "1.5.0",
     "model_name": "ProgressStyleModel",
     "state": {
      "_model_module": "@jupyter-widgets/controls",
      "_model_module_version": "1.5.0",
      "_model_name": "ProgressStyleModel",
      "_view_count": null,
      "_view_module": "@jupyter-widgets/base",
      "_view_module_version": "1.2.0",
      "_view_name": "StyleView",
      "bar_color": null,
      "description_width": ""
     }
    }
   }
  }
 },
 "nbformat": 4,
 "nbformat_minor": 2
}